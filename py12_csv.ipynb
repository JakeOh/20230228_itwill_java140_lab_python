{
  "nbformat": 4,
  "nbformat_minor": 0,
  "metadata": {
    "colab": {
      "provenance": [],
      "mount_file_id": "1winu0uSC2Y2v5vnLuEcS2HvoxPKdmkiV",
      "authorship_tag": "ABX9TyPVHxKHYVX2A+r1tVoj7Kv3",
      "include_colab_link": true
    },
    "kernelspec": {
      "name": "python3",
      "display_name": "Python 3"
    },
    "language_info": {
      "name": "python"
    }
  },
  "cells": [
    {
      "cell_type": "markdown",
      "metadata": {
        "id": "view-in-github",
        "colab_type": "text"
      },
      "source": [
        "<a href=\"https://colab.research.google.com/github/JakeOh/20230228_itwill_java140_lab_python/blob/main/py12_csv.ipynb\" target=\"_parent\"><img src=\"https://colab.research.google.com/assets/colab-badge.svg\" alt=\"Open In Colab\"/></a>"
      ]
    },
    {
      "cell_type": "markdown",
      "source": [
        "CSV(Comma-Separated Values) 파일: 쉼표(,)로 값들이 구분된 텍스트 파일."
      ],
      "metadata": {
        "id": "XpBcwOWiqInu"
      }
    },
    {
      "cell_type": "markdown",
      "source": [
        "*  Colab 연결(가상머신 할당)\n",
        "*  Colab에서 Google Drive를 마운트(연결)\n",
        "*  Google Drive의 'Colab Notebooks/lab_python' 폴더에 csv_exam.csv 파일을 업로드\n",
        "\n",
        "1.  csv_exam.csv 파일을 읽기 모드로 open.\n",
        "1.  파일의 첫번째 줄은 컬럼 이름이기 때문에 읽고 추가 작없 없이 건너뜀.\n",
        "1.  파일의 두번째 줄부터 마지막 줄까지 한 줄씩 읽으면서 반복:\n",
        "    *  각 줄에서 읽은 내용을 쉼표(,)로 구분한 리스트들을 저장하는 리스트를 만듦.\n",
        "    *  `[['1', '1', '50', '98', '50'], ['2', '1', '60', '97', '60'], ...]`\n",
        "1.  위에서 만들어진 2차원 리스트의 모든 값들을 숫자로 변환.\n",
        "    *  `[[1, 1, 50, 98, 50], [2, 1, 60, 97, 60], ...]`\n",
        "1.  2차원 숫자 리스트에서 수학 점수들로만 이루어진 1차원 리스트를 만듦.\n",
        "    * `[50, 60, 45, ...]`\n",
        "1.  수학 점수의 평균, 최댓값, 최솟값을 찾음.\n",
        "1.  1반(class=1) 학생들의 수학 점수의 총덤, 평균, 최댓값, 최솟값을 찾음."
      ],
      "metadata": {
        "id": "qRJvZFKCqWEt"
      }
    },
    {
      "cell_type": "code",
      "execution_count": null,
      "metadata": {
        "id": "4oAZ6LvIp-9E"
      },
      "outputs": [],
      "source": []
    }
  ]
}