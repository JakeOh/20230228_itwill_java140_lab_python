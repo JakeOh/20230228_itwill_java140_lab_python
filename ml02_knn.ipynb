{
  "nbformat": 4,
  "nbformat_minor": 0,
  "metadata": {
    "colab": {
      "provenance": [],
      "authorship_tag": "ABX9TyMj++A4SSdpVJbX6bxfXwIZ",
      "include_colab_link": true
    },
    "kernelspec": {
      "name": "python3",
      "display_name": "Python 3"
    },
    "language_info": {
      "name": "python"
    }
  },
  "cells": [
    {
      "cell_type": "markdown",
      "metadata": {
        "id": "view-in-github",
        "colab_type": "text"
      },
      "source": [
        "<a href=\"https://colab.research.google.com/github/JakeOh/20230228_itwill_java140_lab_python/blob/main/ml02_knn.ipynb\" target=\"_parent\"><img src=\"https://colab.research.google.com/assets/colab-badge.svg\" alt=\"Open In Colab\"/></a>"
      ]
    },
    {
      "cell_type": "markdown",
      "source": [
        "# Imports\n",
        "\n",
        "*  import module_name [as alias]\n",
        "*  from module_name import class_name, function_name, ...\n"
      ],
      "metadata": {
        "id": "sACc_MHJpZF5"
      }
    },
    {
      "cell_type": "code",
      "execution_count": 1,
      "metadata": {
        "id": "7zAfGrEDpODx"
      },
      "outputs": [],
      "source": [
        "import numpy as np\n",
        "import pandas as pd\n",
        "import matplotlib.pyplot as plt\n",
        "import seaborn as sns\n",
        "\n",
        "# scikit-learn 패키지: 머신 러닝 알고리즘을 구현한 패키지.\n",
        "from sklearn.neighbors import KNeighborsClassifier  # 클래스\n",
        "from sklearn.model_selection import train_test_split  # 함수\n"
      ]
    }
  ]
}