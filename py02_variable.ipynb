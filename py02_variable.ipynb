{
  "nbformat": 4,
  "nbformat_minor": 0,
  "metadata": {
    "colab": {
      "provenance": [],
      "authorship_tag": "ABX9TyNifYnvqKWreOfTRzAzTcW5",
      "include_colab_link": true
    },
    "kernelspec": {
      "name": "python3",
      "display_name": "Python 3"
    },
    "language_info": {
      "name": "python"
    }
  },
  "cells": [
    {
      "cell_type": "markdown",
      "metadata": {
        "id": "view-in-github",
        "colab_type": "text"
      },
      "source": [
        "<a href=\"https://colab.research.google.com/github/JakeOh/20230228_itwill_java140_lab_python/blob/main/py02_variable.ipynb\" target=\"_parent\"><img src=\"https://colab.research.google.com/assets/colab-badge.svg\" alt=\"Open In Colab\"/></a>"
      ]
    },
    {
      "cell_type": "markdown",
      "source": [
        "# 파이썬 자료 타입(data type)\n",
        "\n",
        "*  숫자 타입\n",
        "    *  `int`: 정수\n",
        "    *  `float`: 실수\n",
        "*  문자열 타입\n",
        "    *  `str`\n",
        "*  논리 타입\n",
        "    *  `bool`: True/False\n",
        "*  객체 타입\n",
        "\n",
        "파이썬에서는 변수를 선언할 때 자료 타입을 명시하지 않음.\n",
        "\n",
        "변수의 자료 타입은 코드가 실행 때 결정됨."
      ],
      "metadata": {
        "id": "F2JIPrKRmgXZ"
      }
    },
    {
      "cell_type": "code",
      "execution_count": 1,
      "metadata": {
        "colab": {
          "base_uri": "https://localhost:8080/"
        },
        "id": "ZjBxPDY0leLv",
        "outputId": "25fbabb9-9888-4cd6-ed3f-af748393bddd"
      },
      "outputs": [
        {
          "output_type": "stream",
          "name": "stdout",
          "text": [
            "3.14\n"
          ]
        },
        {
          "output_type": "execute_result",
          "data": {
            "text/plain": [
              "float"
            ]
          },
          "metadata": {},
          "execution_count": 1
        }
      ],
      "source": [
        "pi = 3.14\n",
        "print(pi)\n",
        "type(pi)  # print(type(pi))"
      ]
    },
    {
      "cell_type": "markdown",
      "source": [
        "## 명시적 타입 변환\n",
        "\n",
        "*  `int(arg)`: arg를 정수 타입으로 변환해서 리턴.\n",
        "*  `float(arg)`: arg를 실수 타입으로 변환해서 리턴.\n",
        "*  `str(arg)`: arg를 문자열로 변환해서 리턴.\n"
      ],
      "metadata": {
        "id": "drci0raTo1-p"
      }
    },
    {
      "cell_type": "code",
      "source": [
        "# Colab 노트북에서 콘솔 입력:\n",
        "n = input('정수 입력>>> ')"
      ],
      "metadata": {
        "colab": {
          "base_uri": "https://localhost:8080/"
        },
        "id": "OKXUcXm0ohfq",
        "outputId": "47a58f61-609f-4951-ce31-8c301f688439"
      },
      "execution_count": 2,
      "outputs": [
        {
          "name": "stdout",
          "output_type": "stream",
          "text": [
            "정수 입력>>> 123\n"
          ]
        }
      ]
    },
    {
      "cell_type": "code",
      "source": [
        "type(n)"
      ],
      "metadata": {
        "colab": {
          "base_uri": "https://localhost:8080/"
        },
        "id": "3gD0g1HIpdHV",
        "outputId": "f20602e2-3855-43d7-9f09-077f9f4e4531"
      },
      "execution_count": 3,
      "outputs": [
        {
          "output_type": "execute_result",
          "data": {
            "text/plain": [
              "str"
            ]
          },
          "metadata": {},
          "execution_count": 3
        }
      ]
    },
    {
      "cell_type": "code",
      "source": [
        "int(n) + 1  # 123 + 1"
      ],
      "metadata": {
        "colab": {
          "base_uri": "https://localhost:8080/"
        },
        "id": "BLGvU__ZqB2q",
        "outputId": "22e3faa8-a7be-43dc-cb51-8e8fd25dd329"
      },
      "execution_count": 5,
      "outputs": [
        {
          "output_type": "execute_result",
          "data": {
            "text/plain": [
              "124"
            ]
          },
          "metadata": {},
          "execution_count": 5
        }
      ]
    },
    {
      "cell_type": "code",
      "source": [
        "n + str(1)  # '123' + '1'"
      ],
      "metadata": {
        "colab": {
          "base_uri": "https://localhost:8080/",
          "height": 36
        },
        "id": "t9-GHIfMqN0p",
        "outputId": "daa2cd83-1f69-4d73-9763-f5ead7fa2451"
      },
      "execution_count": 6,
      "outputs": [
        {
          "output_type": "execute_result",
          "data": {
            "text/plain": [
              "'1231'"
            ],
            "application/vnd.google.colaboratory.intrinsic+json": {
              "type": "string"
            }
          },
          "metadata": {},
          "execution_count": 6
        }
      ]
    },
    {
      "cell_type": "markdown",
      "source": [
        "# 산술 연산자\n",
        "\n",
        "`+, -, *, /, //, %, **`\n",
        "\n",
        "*  `/`: 소수점까지 계산하는 나눗셈.\n",
        "*  `//`: 나눈 몫.\n",
        "*  `%`: 나눈 나머지.\n",
        "*  `**`: 거듭제곱.\n"
      ],
      "metadata": {
        "id": "lMeMIzpUrGuS"
      }
    },
    {
      "cell_type": "code",
      "source": [
        "10 / 3"
      ],
      "metadata": {
        "colab": {
          "base_uri": "https://localhost:8080/"
        },
        "id": "QYLKhv3wqw2U",
        "outputId": "39a12c8b-0d1e-49bd-ae3e-22c67f746baf"
      },
      "execution_count": 7,
      "outputs": [
        {
          "output_type": "execute_result",
          "data": {
            "text/plain": [
              "3.3333333333333335"
            ]
          },
          "metadata": {},
          "execution_count": 7
        }
      ]
    },
    {
      "cell_type": "code",
      "source": [
        "10 // 3"
      ],
      "metadata": {
        "colab": {
          "base_uri": "https://localhost:8080/"
        },
        "id": "13iJsWaKr3db",
        "outputId": "d4cfbfcb-4b5b-44e4-94bf-abc0b0a3af10"
      },
      "execution_count": 8,
      "outputs": [
        {
          "output_type": "execute_result",
          "data": {
            "text/plain": [
              "3"
            ]
          },
          "metadata": {},
          "execution_count": 8
        }
      ]
    },
    {
      "cell_type": "code",
      "source": [
        "10 % 3"
      ],
      "metadata": {
        "colab": {
          "base_uri": "https://localhost:8080/"
        },
        "id": "stMCjdFdr6aR",
        "outputId": "5ed9a566-718e-42a9-97f7-679619036648"
      },
      "execution_count": 9,
      "outputs": [
        {
          "output_type": "execute_result",
          "data": {
            "text/plain": [
              "1"
            ]
          },
          "metadata": {},
          "execution_count": 9
        }
      ]
    },
    {
      "cell_type": "code",
      "source": [
        "10 ** 3"
      ],
      "metadata": {
        "colab": {
          "base_uri": "https://localhost:8080/"
        },
        "id": "Y33pNeH3r9IR",
        "outputId": "f9371073-f3fa-4050-c67b-43bdf8e8f94e"
      },
      "execution_count": 10,
      "outputs": [
        {
          "output_type": "execute_result",
          "data": {
            "text/plain": [
              "1000"
            ]
          },
          "metadata": {},
          "execution_count": 10
        }
      ]
    },
    {
      "cell_type": "markdown",
      "source": [
        "# 비교 연산자, 논리 연산자\n",
        "\n",
        "*  비교 연산자: `==, !=, >, >=, <, <=`\n",
        "*  논리 연산자: `and, or, not`\n"
      ],
      "metadata": {
        "id": "QkgwmlP5sNp5"
      }
    },
    {
      "cell_type": "code",
      "source": [
        "x = 100\n",
        "(x > 50) and (x < 150)"
      ],
      "metadata": {
        "colab": {
          "base_uri": "https://localhost:8080/"
        },
        "id": "F0-79ULjsAvB",
        "outputId": "e5be4f8d-0bec-44ec-b532-a45c9bfd09a1"
      },
      "execution_count": 11,
      "outputs": [
        {
          "output_type": "execute_result",
          "data": {
            "text/plain": [
              "True"
            ]
          },
          "metadata": {},
          "execution_count": 11
        }
      ]
    },
    {
      "cell_type": "code",
      "source": [
        "50 < x < 150"
      ],
      "metadata": {
        "colab": {
          "base_uri": "https://localhost:8080/"
        },
        "id": "DNbIwOKdsuup",
        "outputId": "c5f7e397-3f72-4752-a39e-feacd8b8e772"
      },
      "execution_count": 12,
      "outputs": [
        {
          "output_type": "execute_result",
          "data": {
            "text/plain": [
              "True"
            ]
          },
          "metadata": {},
          "execution_count": 12
        }
      ]
    }
  ]
}