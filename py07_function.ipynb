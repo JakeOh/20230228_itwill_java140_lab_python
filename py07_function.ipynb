{
  "nbformat": 4,
  "nbformat_minor": 0,
  "metadata": {
    "colab": {
      "provenance": [],
      "authorship_tag": "ABX9TyMNYD060PVRaMjAoRCgeluS",
      "include_colab_link": true
    },
    "kernelspec": {
      "name": "python3",
      "display_name": "Python 3"
    },
    "language_info": {
      "name": "python"
    }
  },
  "cells": [
    {
      "cell_type": "markdown",
      "metadata": {
        "id": "view-in-github",
        "colab_type": "text"
      },
      "source": [
        "<a href=\"https://colab.research.google.com/github/JakeOh/20230228_itwill_java140_lab_python/blob/main/py07_function.ipynb\" target=\"_parent\"><img src=\"https://colab.research.google.com/assets/colab-badge.svg\" alt=\"Open In Colab\"/></a>"
      ]
    },
    {
      "cell_type": "markdown",
      "source": [
        "# Function(함수)"
      ],
      "metadata": {
        "id": "CJm2Olp5FBCO"
      }
    },
    {
      "cell_type": "markdown",
      "source": [
        "*  function(함수): 기능을 수행하는 코드 블록.\n",
        "*  argument: 함수를 호출하는 곳에서 함수에게 전달하는 값.\n",
        "*  parameter: argument를 저장하기 위해서 함수 선언부에서 선언하는 지역 변수.\n",
        "*  return value: 함수가 기능의 수행 결과로 리턴하는 값.\n",
        "    *  return value가 있는 함수\n",
        "    *  return value가 없는 함수\n",
        "*  파이썬 함수 정의 방법:\n",
        "    ```\n",
        "    def function_name([param, ...]):\n",
        "        [\"\"\"문서화 주석 - 함수 기능 설명, 파라미터 설명, 리턴 값 설명\"\"\"]\n",
        "        함수 기능 구현\n",
        "        [return 값]\n",
        "    ```\n",
        "*  return value가 없는 경우에,\n",
        "    *  return 문장을 생략.\n",
        "    *  return None 명시할 수도 있음."
      ],
      "metadata": {
        "id": "Kw00pQ0PFFeF"
      }
    },
    {
      "cell_type": "code",
      "execution_count": 1,
      "metadata": {
        "id": "mk8RGKv3EwjA"
      },
      "outputs": [],
      "source": [
        "def subtract(x, y):\n",
        "    \"\"\"2개의 숫자 x, y를 전달받아서 x-y 결과를 리턴하는 함수.\n",
        "    \"\"\"\n",
        "    return x - y"
      ]
    },
    {
      "cell_type": "code",
      "source": [
        "result = subtract(1, 2)\n",
        "result"
      ],
      "metadata": {
        "colab": {
          "base_uri": "https://localhost:8080/"
        },
        "id": "HVQUXGhBIPYb",
        "outputId": "eee4b549-cd0c-4bcb-be89-a2ebf36ba77b"
      },
      "execution_count": 2,
      "outputs": [
        {
          "output_type": "execute_result",
          "data": {
            "text/plain": [
              "-1"
            ]
          },
          "metadata": {},
          "execution_count": 2
        }
      ]
    },
    {
      "cell_type": "code",
      "source": [
        "def repeat_message(message, n):\n",
        "    \"\"\"문자열(message)과 양의 정수(n)을 전달받아서, message를 n번 출력하는 함수.\n",
        "    \"\"\"\n",
        "    for _ in range(n):\n",
        "        print(message)\n",
        "\n",
        "    return None\n",
        "    # 리턴 값이 없으면 보통 return문을 생략하지만, return None으로 명시하기도 함."
      ],
      "metadata": {
        "id": "YjfQxDaqIhRZ"
      },
      "execution_count": 5,
      "outputs": []
    },
    {
      "cell_type": "code",
      "source": [
        "repeat_message('안녕하세요', 3)"
      ],
      "metadata": {
        "colab": {
          "base_uri": "https://localhost:8080/"
        },
        "id": "hz3hYv_TJu2T",
        "outputId": "ad32a941-6fdd-4a62-904c-c640c27f3a16"
      },
      "execution_count": 6,
      "outputs": [
        {
          "output_type": "stream",
          "name": "stdout",
          "text": [
            "안녕하세요\n",
            "안녕하세요\n",
            "안녕하세요\n"
          ]
        }
      ]
    },
    {
      "cell_type": "code",
      "source": [],
      "metadata": {
        "id": "9Z9uhmpSJymQ"
      },
      "execution_count": null,
      "outputs": []
    }
  ]
}