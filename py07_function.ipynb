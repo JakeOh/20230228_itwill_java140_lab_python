{
  "nbformat": 4,
  "nbformat_minor": 0,
  "metadata": {
    "colab": {
      "provenance": [],
      "authorship_tag": "ABX9TyMW9yrXKpf+feJgRZhHJ1mO",
      "include_colab_link": true
    },
    "kernelspec": {
      "name": "python3",
      "display_name": "Python 3"
    },
    "language_info": {
      "name": "python"
    }
  },
  "cells": [
    {
      "cell_type": "markdown",
      "metadata": {
        "id": "view-in-github",
        "colab_type": "text"
      },
      "source": [
        "<a href=\"https://colab.research.google.com/github/JakeOh/20230228_itwill_java140_lab_python/blob/main/py07_function.ipynb\" target=\"_parent\"><img src=\"https://colab.research.google.com/assets/colab-badge.svg\" alt=\"Open In Colab\"/></a>"
      ]
    },
    {
      "cell_type": "markdown",
      "source": [
        "# Function(함수)"
      ],
      "metadata": {
        "id": "CJm2Olp5FBCO"
      }
    },
    {
      "cell_type": "markdown",
      "source": [
        "*  function(함수): 기능을 수행하는 코드 블록.\n",
        "*  argument: 함수를 호출하는 곳에서 함수에게 전달하는 값.\n",
        "*  parameter: argument를 저장하기 위해서 함수 선언부에서 선언하는 지역 변수.\n",
        "*  return value: 함수가 기능의 수행 결과로 리턴하는 값.\n",
        "    *  return value가 있는 함수\n",
        "    *  return value가 없는 함수\n",
        "*  파이썬 함수 정의 방법:\n",
        "    ```\n",
        "    def function_name([param, ...]):\n",
        "        [\"\"\"문서화 주석 - 함수 기능 설명, 파라미터 설명, 리턴 값 설명\"\"\"]\n",
        "        함수 기능 구현\n",
        "        [return 값]\n",
        "    ```\n",
        "*  return value가 없는 경우에,\n",
        "    *  return 문장을 생략.\n",
        "    *  return None 명시할 수도 있음."
      ],
      "metadata": {
        "id": "Kw00pQ0PFFeF"
      }
    },
    {
      "cell_type": "code",
      "execution_count": 1,
      "metadata": {
        "id": "mk8RGKv3EwjA"
      },
      "outputs": [],
      "source": [
        "def subtract(x, y):\n",
        "    \"\"\"2개의 숫자 x, y를 전달받아서 x-y 결과를 리턴하는 함수.\n",
        "    \"\"\"\n",
        "    return x - y"
      ]
    },
    {
      "cell_type": "code",
      "source": [
        "result = subtract(1, 2)\n",
        "result"
      ],
      "metadata": {
        "colab": {
          "base_uri": "https://localhost:8080/"
        },
        "id": "HVQUXGhBIPYb",
        "outputId": "acebf8e8-c721-453b-9bed-d46a099ccac0"
      },
      "execution_count": 2,
      "outputs": [
        {
          "output_type": "execute_result",
          "data": {
            "text/plain": [
              "-1"
            ]
          },
          "metadata": {},
          "execution_count": 2
        }
      ]
    },
    {
      "cell_type": "code",
      "source": [
        "def repeat_message(message, n):\n",
        "    \"\"\"문자열(message)과 양의 정수(n)을 전달받아서, message를 n번 출력하는 함수.\n",
        "    \"\"\"\n",
        "    for _ in range(n):\n",
        "        print(message)\n",
        "\n",
        "    return None\n",
        "    # 리턴 값이 없으면 보통 return문을 생략하지만, return None으로 명시하기도 함."
      ],
      "metadata": {
        "id": "YjfQxDaqIhRZ"
      },
      "execution_count": 3,
      "outputs": []
    },
    {
      "cell_type": "code",
      "source": [
        "repeat_message('안녕하세요', 3)"
      ],
      "metadata": {
        "colab": {
          "base_uri": "https://localhost:8080/"
        },
        "id": "hz3hYv_TJu2T",
        "outputId": "a0d45b01-dbcb-4f70-feea-7d6363244850"
      },
      "execution_count": 4,
      "outputs": [
        {
          "output_type": "stream",
          "name": "stdout",
          "text": [
            "안녕하세요\n",
            "안녕하세요\n",
            "안녕하세요\n"
          ]
        }
      ]
    },
    {
      "cell_type": "code",
      "source": [
        "import random"
      ],
      "metadata": {
        "id": "gzYC8GJGrChB"
      },
      "execution_count": 5,
      "outputs": []
    },
    {
      "cell_type": "markdown",
      "source": [
        "## Ex 1.\n",
        "\n",
        "* 함수 이름: make_list\n",
        "* 기능: start 이상 end 미만의 정수 난수 n개를 갖는 리스트를 반환하는 함수.\n"
      ],
      "metadata": {
        "id": "aWZ6pJXbK4fp"
      }
    },
    {
      "cell_type": "code",
      "source": [
        "def make_list(start, end, n):\n",
        "    numbers = [random.randrange(start, end) for _ in range(n)]\n",
        "    return numbers"
      ],
      "metadata": {
        "id": "eOYMneQ6rLmm"
      },
      "execution_count": 6,
      "outputs": []
    },
    {
      "cell_type": "code",
      "source": [
        "make_list(0, 10, 5)"
      ],
      "metadata": {
        "colab": {
          "base_uri": "https://localhost:8080/"
        },
        "id": "czRoXgbKryaG",
        "outputId": "9e594ab9-d599-4111-ac95-8ba85880ffb6"
      },
      "execution_count": 11,
      "outputs": [
        {
          "output_type": "execute_result",
          "data": {
            "text/plain": [
              "[9, 3, 3, 3, 2]"
            ]
          },
          "metadata": {},
          "execution_count": 11
        }
      ]
    },
    {
      "cell_type": "code",
      "source": [
        "make_list(1, 100, 10)"
      ],
      "metadata": {
        "colab": {
          "base_uri": "https://localhost:8080/"
        },
        "id": "_IDlnkdBssbm",
        "outputId": "1d385987-3a62-420b-faa4-8cdbc9dc9d44"
      },
      "execution_count": 12,
      "outputs": [
        {
          "output_type": "execute_result",
          "data": {
            "text/plain": [
              "[56, 3, 37, 45, 56, 52, 25, 8, 26, 19]"
            ]
          },
          "metadata": {},
          "execution_count": 12
        }
      ]
    },
    {
      "cell_type": "markdown",
      "source": [
        "## Ex 2.\n",
        "\n",
        "* 함수 이름: calc_sum\n",
        "* 기능: 숫자들의 리스트를 전달받아서, 리스트의 모든 원소들의 합을 리턴하는 함수.\n"
      ],
      "metadata": {
        "id": "FQ2qbOgZLAQh"
      }
    },
    {
      "cell_type": "code",
      "source": [
        "def calc_sum(num_list):\n",
        "    total = 0\n",
        "    for x in num_list:\n",
        "        total += x\n",
        "\n",
        "    return total"
      ],
      "metadata": {
        "id": "AtJqP7T_s7YO"
      },
      "execution_count": 13,
      "outputs": []
    },
    {
      "cell_type": "code",
      "source": [
        "numbers = make_list(0, 10, 5)\n",
        "print(numbers)\n",
        "total = calc_sum(numbers)\n",
        "print(total)"
      ],
      "metadata": {
        "colab": {
          "base_uri": "https://localhost:8080/"
        },
        "id": "1SIMEvvMt0e0",
        "outputId": "62936254-3424-4563-8e7b-338c3cfa058c"
      },
      "execution_count": 14,
      "outputs": [
        {
          "output_type": "stream",
          "name": "stdout",
          "text": [
            "[7, 5, 8, 0, 8]\n",
            "28\n"
          ]
        }
      ]
    },
    {
      "cell_type": "markdown",
      "source": [
        "## Ex 3.\n",
        "\n",
        "* 함수 이름: calc_mean\n",
        "* 기능: 숫자들의 리스트를 전달받아서, 리스트의 원소들의 평균을 리턴하는 함수.\n"
      ],
      "metadata": {
        "id": "Qc8UwdBjLFfJ"
      }
    },
    {
      "cell_type": "code",
      "source": [
        "def calc_mean(num_list):\n",
        "    mean = calc_sum(num_list) / len(num_list)\n",
        "    return mean"
      ],
      "metadata": {
        "id": "qlRIwJyNvwrN"
      },
      "execution_count": 19,
      "outputs": []
    },
    {
      "cell_type": "code",
      "source": [
        "calc_mean(numbers)"
      ],
      "metadata": {
        "colab": {
          "base_uri": "https://localhost:8080/"
        },
        "id": "DOXk2-P3wPkM",
        "outputId": "de6a01a3-34a0-4a79-9ff8-aab016fdf89f"
      },
      "execution_count": 20,
      "outputs": [
        {
          "output_type": "execute_result",
          "data": {
            "text/plain": [
              "5.6"
            ]
          },
          "metadata": {},
          "execution_count": 20
        }
      ]
    },
    {
      "cell_type": "markdown",
      "source": [
        "## Ex 4.\n",
        "\n",
        "* 함수 이름: calc_var\n",
        "* 기능: 숫자들의 리스트를 전달받아서, 리스트의 원소들의 분산(variance)을 리턴하는 함수.\n",
        "    * 분산 = (값 - 평균)**2 들의 평균\n"
      ],
      "metadata": {
        "id": "-h4s5UMQLJOp"
      }
    },
    {
      "cell_type": "code",
      "source": [
        "def calc_var(num_list):\n",
        "    mean = calc_mean(num_list)\n",
        "    squares = [(x - mean) ** 2 for x in num_list]\n",
        "    variance = calc_mean(squares)\n",
        "    return variance"
      ],
      "metadata": {
        "id": "9Z9uhmpSJymQ"
      },
      "execution_count": 21,
      "outputs": []
    },
    {
      "cell_type": "code",
      "source": [
        "calc_var(numbers)"
      ],
      "metadata": {
        "colab": {
          "base_uri": "https://localhost:8080/"
        },
        "id": "0ICuTyjwyjR1",
        "outputId": "3e637945-94a3-4f71-df71-b3c91ff95ffb"
      },
      "execution_count": 22,
      "outputs": [
        {
          "output_type": "execute_result",
          "data": {
            "text/plain": [
              "9.040000000000001"
            ]
          },
          "metadata": {},
          "execution_count": 22
        }
      ]
    },
    {
      "cell_type": "code",
      "source": [
        "scores1 = [3, 4, 5, 6, 7]\n",
        "scores2 = [0, 1, 5, 9, 10]\n",
        "mean1 = calc_mean(scores1)\n",
        "mean2 = calc_mean(scores2)\n",
        "print(f'mean1 = {mean1}')\n",
        "print(f'mean2 = {mean2}')"
      ],
      "metadata": {
        "colab": {
          "base_uri": "https://localhost:8080/"
        },
        "id": "kNQk2cr7ynHM",
        "outputId": "52875508-73b9-49ec-fd31-abc46464d7de"
      },
      "execution_count": 23,
      "outputs": [
        {
          "output_type": "stream",
          "name": "stdout",
          "text": [
            "mean1 = 5.0\n",
            "mean2 = 5.0\n"
          ]
        }
      ]
    },
    {
      "cell_type": "code",
      "source": [
        "print(calc_var(scores1))\n",
        "print(calc_var(scores2))"
      ],
      "metadata": {
        "colab": {
          "base_uri": "https://localhost:8080/"
        },
        "id": "cC_0CaJYzocM",
        "outputId": "a22f9296-522d-4bc3-eff4-5eb507f6e9c0"
      },
      "execution_count": 24,
      "outputs": [
        {
          "output_type": "stream",
          "name": "stdout",
          "text": [
            "2.0\n",
            "16.4\n"
          ]
        }
      ]
    },
    {
      "cell_type": "code",
      "source": [
        "def make_lotto_list():\n",
        "    lottos = []\n",
        "    for _ in range(5):\n",
        "        lotto = set()  # set\n",
        "        while True:\n",
        "            lotto.add(random.randrange(1, 46))\n",
        "            if len(lotto) == 6:\n",
        "                break\n",
        "        lottos.append(lotto)\n",
        "    return lottos"
      ],
      "metadata": {
        "id": "aJYjlGcM0H2b"
      },
      "execution_count": 27,
      "outputs": []
    },
    {
      "cell_type": "code",
      "source": [
        "make_lotto_list()"
      ],
      "metadata": {
        "colab": {
          "base_uri": "https://localhost:8080/"
        },
        "id": "8OU6_Mii1PYs",
        "outputId": "cc7b0b35-f873-455c-9e05-dc8285008e68"
      },
      "execution_count": 28,
      "outputs": [
        {
          "output_type": "execute_result",
          "data": {
            "text/plain": [
              "[{2, 11, 15, 19, 32, 44},\n",
              " {2, 8, 9, 13, 22, 23},\n",
              " {14, 17, 19, 32, 41, 42},\n",
              " {2, 9, 22, 25, 33, 40},\n",
              " {10, 16, 23, 24, 31, 41}]"
            ]
          },
          "metadata": {},
          "execution_count": 28
        }
      ]
    },
    {
      "cell_type": "markdown",
      "source": [
        "파이썬은 2개 이상의 값을 리턴하는 함수를 정의할 수 있음. 함수를 호출한 곳에서는 리턴 값을 튜플로 취급하면 됨.\n",
        "\n",
        "```\n",
        "x, y = (1, 2)  # decomposition(성분 분해)\n",
        "```\n"
      ],
      "metadata": {
        "id": "NzQvzAYd5AFq"
      }
    },
    {
      "cell_type": "code",
      "source": [
        "def plus_and_minus(x, y):\n",
        "    return x + y, x - y"
      ],
      "metadata": {
        "id": "9qEOhvfx1RPT"
      },
      "execution_count": 29,
      "outputs": []
    },
    {
      "cell_type": "code",
      "source": [
        "result = plus_and_minus(1, 2)\n",
        "result"
      ],
      "metadata": {
        "colab": {
          "base_uri": "https://localhost:8080/"
        },
        "id": "nkV1Uiaj50lc",
        "outputId": "237b0488-b59a-4b40-ee40-5e8e02f33db0"
      },
      "execution_count": 30,
      "outputs": [
        {
          "output_type": "execute_result",
          "data": {
            "text/plain": [
              "(3, -1)"
            ]
          },
          "metadata": {},
          "execution_count": 30
        }
      ]
    },
    {
      "cell_type": "code",
      "source": [
        "plus, minus = plus_and_minus(1, 2)\n",
        "print(plus, minus)"
      ],
      "metadata": {
        "colab": {
          "base_uri": "https://localhost:8080/"
        },
        "id": "CYN1dQmQ571S",
        "outputId": "8a371b1d-2d46-4300-edea-867cc108d2a6"
      },
      "execution_count": 31,
      "outputs": [
        {
          "output_type": "stream",
          "name": "stdout",
          "text": [
            "3 -1\n"
          ]
        }
      ]
    },
    {
      "cell_type": "markdown",
      "source": [
        "숫자들의 리스트를 전달받아서, 최댓값과 최솟값을 리턴하는 함수를 정의."
      ],
      "metadata": {
        "id": "v2I40IUT6e1y"
      }
    },
    {
      "cell_type": "code",
      "source": [
        "def find_max_and_min(num_list):\n",
        "    max = num_list[0]  # 리스트의 첫번째 원소를 최댓값이라고 가정.\n",
        "    min = num_list[0]  # 리스트의 첫번째 원소를 최솟값이라고 가정.\n",
        "    for x in num_list:  # 리스트의 원소들을 처음부터 끝까지 순서대로 반복하면서\n",
        "        if (x > max):  # 리스트에 있는 값이 max보다 크다면\n",
        "            max = x  # 리스트에서 찾은 값으로 max를 변경.\n",
        "        if (x < min):  # 리스트에 있는 값이 min보다 작다면\n",
        "            min = x  # 리스트에서 찾은 값으로 min을 변경.\n",
        "\n",
        "    return max, min"
      ],
      "metadata": {
        "id": "L7c93nUM6ZfZ"
      },
      "execution_count": 32,
      "outputs": []
    },
    {
      "cell_type": "code",
      "source": [
        "numbers = make_list(0, 100, 10)\n",
        "print(numbers)\n",
        "max, min = find_max_and_min(numbers)\n",
        "print(f'max = {max}, min = {min}')"
      ],
      "metadata": {
        "colab": {
          "base_uri": "https://localhost:8080/"
        },
        "id": "vvZT1TQi9OWL",
        "outputId": "e06ae0aa-b639-4191-a96f-5e843ad215ed"
      },
      "execution_count": 36,
      "outputs": [
        {
          "output_type": "stream",
          "name": "stdout",
          "text": [
            "[82, 81, 68, 19, 90, 31, 67, 26, 13, 80]\n",
            "max = 90, min = 13\n"
          ]
        }
      ]
    },
    {
      "cell_type": "markdown",
      "source": [
        "숫자들의 리스트를 전달받아서 최댓값과 최댓값의 인덱스(위치)를 리턴하는 함수를 정의. 최댓값이 2개 이상인 경우, 먼저 나오는 최댓값의 인덱스를 리턴."
      ],
      "metadata": {
        "id": "0qWoKlHl9pGp"
      }
    },
    {
      "cell_type": "code",
      "source": [
        "def find_max_and_index(num_list):\n",
        "    max = num_list[0]\n",
        "    max_index = 0\n",
        "    for i, v in enumerate(num_list):\n",
        "        if (v > max):\n",
        "            max = v\n",
        "            max_index = i\n",
        "\n",
        "    return max, max_index"
      ],
      "metadata": {
        "id": "zXIxxADC9TeQ"
      },
      "execution_count": 41,
      "outputs": []
    },
    {
      "cell_type": "code",
      "source": [
        "numbers = [1, 100, 20, 100, 0, -1, 99]\n",
        "find_max_and_index(numbers)"
      ],
      "metadata": {
        "colab": {
          "base_uri": "https://localhost:8080/"
        },
        "id": "v2gA9j1SAfK5",
        "outputId": "40383941-eda9-4684-a733-b0de940a9e32"
      },
      "execution_count": 42,
      "outputs": [
        {
          "output_type": "execute_result",
          "data": {
            "text/plain": [
              "(100, 1)"
            ]
          },
          "metadata": {},
          "execution_count": 42
        }
      ]
    },
    {
      "cell_type": "markdown",
      "source": [
        "# Default argument(기본 인수)\n",
        "\n",
        "*  함수를 정의할 때 파라미터에 설정된 기본값.\n",
        "    *  함수를 호출할 때 파라미터에 값을 전달하지 않으면, 기본값이 사용됨.\n",
        "    *  함수를 호출할 때 파라미터에 값을 전달하면, 기본값은 무시되고 전달한 아규먼트가 사용됨.\n",
        "*  **(주의)** 함수를 정의할 때, default argument를 갖는 파라미터들은 반드시 default argument를 갖지 않는 파라미터들 뒤에 선언해야 함!\n",
        "    *  기본값을 갖지 않는 파라미터들을 먼저 선언하고, 기본값을 갖는 파라미터들을 뒤에 선언해야 함.\n"
      ],
      "metadata": {
        "id": "8_QdVKWPEF5_"
      }
    },
    {
      "cell_type": "code",
      "source": [
        "def repeat_message2(msg, n=1):\n",
        "    for _ in range(n):\n",
        "        print(msg)"
      ],
      "metadata": {
        "id": "AHZju4vXAuPr"
      },
      "execution_count": 43,
      "outputs": []
    },
    {
      "cell_type": "code",
      "source": [
        "repeat_message2('배고프다')"
      ],
      "metadata": {
        "colab": {
          "base_uri": "https://localhost:8080/"
        },
        "id": "BdpKTe3OFq4H",
        "outputId": "deafdfaa-c84a-4eff-ac7f-25a60d604879"
      },
      "execution_count": 44,
      "outputs": [
        {
          "output_type": "stream",
          "name": "stdout",
          "text": [
            "배고프다\n"
          ]
        }
      ]
    },
    {
      "cell_type": "code",
      "source": [
        "repeat_message2('안녕하세요', 3)"
      ],
      "metadata": {
        "colab": {
          "base_uri": "https://localhost:8080/"
        },
        "id": "MnqKDYIsF7f-",
        "outputId": "4c215721-2dce-4907-e0fb-c6aab589dfd3"
      },
      "execution_count": 45,
      "outputs": [
        {
          "output_type": "stream",
          "name": "stdout",
          "text": [
            "안녕하세요\n",
            "안녕하세요\n",
            "안녕하세요\n"
          ]
        }
      ]
    },
    {
      "cell_type": "code",
      "source": [
        "def test(n=1, msg):\n",
        "    pass"
      ],
      "metadata": {
        "colab": {
          "base_uri": "https://localhost:8080/",
          "height": 142
        },
        "id": "e5pW-vyfGIuu",
        "outputId": "83ea85d0-a817-46e5-9b8c-fe5d1e5730f3"
      },
      "execution_count": 46,
      "outputs": [
        {
          "output_type": "error",
          "ename": "SyntaxError",
          "evalue": "ignored",
          "traceback": [
            "\u001b[0;36m  File \u001b[0;32m\"<ipython-input-46-bc7edf56e3c6>\"\u001b[0;36m, line \u001b[0;32m1\u001b[0m\n\u001b[0;31m    def test(n=1, msg):\u001b[0m\n\u001b[0m                  ^\u001b[0m\n\u001b[0;31mSyntaxError\u001b[0m\u001b[0;31m:\u001b[0m non-default argument follows default argument\n"
          ]
        }
      ]
    },
    {
      "cell_type": "markdown",
      "source": [
        "# argument 전달 방법:\n",
        "\n",
        "*  positional argument: 함수 정의에서 선언된 파라미터 순서대로 아규먼트들을 전달하는 방법.\n",
        "*  keyword argument: `param=value` 형식으로 아규먼트들을 전달하는 방법.\n",
        "    *  keyword argument 방식에서는 파라미터의 순서를 지키지 않아도 됨.\n",
        "*  **(주의)** 함수 호출할 때 positional 방식과 keyword 방식을 함께 사용하는 경우에는, 반드시 positional argument를 먼저 사용하고, keyword argument는 나중에 사용해야 함.\n"
      ],
      "metadata": {
        "id": "bFF2Yg4-HIZu"
      }
    },
    {
      "cell_type": "code",
      "source": [
        "def minus(x, y):\n",
        "    return x - y"
      ],
      "metadata": {
        "id": "rt00O3eLI7Hl"
      },
      "execution_count": 47,
      "outputs": []
    },
    {
      "cell_type": "code",
      "source": [
        "minus(1, 2)  # positional argument"
      ],
      "metadata": {
        "colab": {
          "base_uri": "https://localhost:8080/"
        },
        "id": "wQrrsPPKI-QG",
        "outputId": "71693052-f791-4728-8618-97df5b62d689"
      },
      "execution_count": 48,
      "outputs": [
        {
          "output_type": "execute_result",
          "data": {
            "text/plain": [
              "-1"
            ]
          },
          "metadata": {},
          "execution_count": 48
        }
      ]
    },
    {
      "cell_type": "code",
      "source": [
        "minus(x=1, y=2)  # keyword argument"
      ],
      "metadata": {
        "colab": {
          "base_uri": "https://localhost:8080/"
        },
        "id": "6bHIw-DVJLFd",
        "outputId": "76623fe3-ca6a-40b9-a18c-beab759443cf"
      },
      "execution_count": 49,
      "outputs": [
        {
          "output_type": "execute_result",
          "data": {
            "text/plain": [
              "-1"
            ]
          },
          "metadata": {},
          "execution_count": 49
        }
      ]
    },
    {
      "cell_type": "code",
      "source": [
        "minus(y=1, x=2)  # keyword argument는 파라미터 순서(position)를 지키지 않아도 됨."
      ],
      "metadata": {
        "colab": {
          "base_uri": "https://localhost:8080/"
        },
        "id": "icPqz2omJtxN",
        "outputId": "8c381dbc-c1a6-4623-e85b-edbcc59aed40"
      },
      "execution_count": 50,
      "outputs": [
        {
          "output_type": "execute_result",
          "data": {
            "text/plain": [
              "1"
            ]
          },
          "metadata": {},
          "execution_count": 50
        }
      ]
    },
    {
      "cell_type": "code",
      "source": [
        "minus(1, y=2)"
      ],
      "metadata": {
        "colab": {
          "base_uri": "https://localhost:8080/"
        },
        "id": "2Fu5DvG4KNcc",
        "outputId": "c4dfb33c-18f5-4b1a-89e4-fa853434a9b1"
      },
      "execution_count": 51,
      "outputs": [
        {
          "output_type": "execute_result",
          "data": {
            "text/plain": [
              "-1"
            ]
          },
          "metadata": {},
          "execution_count": 51
        }
      ]
    },
    {
      "cell_type": "code",
      "source": [
        "minus(x=1, 2)"
      ],
      "metadata": {
        "colab": {
          "base_uri": "https://localhost:8080/",
          "height": 142
        },
        "id": "Dtwwz7XRKg3l",
        "outputId": "76537f48-d08c-470a-b7ff-2a05e759bb78"
      },
      "execution_count": 52,
      "outputs": [
        {
          "output_type": "error",
          "ename": "SyntaxError",
          "evalue": "ignored",
          "traceback": [
            "\u001b[0;36m  File \u001b[0;32m\"<ipython-input-52-5a799f4da02d>\"\u001b[0;36m, line \u001b[0;32m1\u001b[0m\n\u001b[0;31m    minus(x=1, 2)\u001b[0m\n\u001b[0m                ^\u001b[0m\n\u001b[0;31mSyntaxError\u001b[0m\u001b[0;31m:\u001b[0m positional argument follows keyword argument\n"
          ]
        }
      ]
    },
    {
      "cell_type": "markdown",
      "source": [
        "# 가변길이 인수(variable-length argument)\n",
        "\n",
        "*  함수를 호출할 때, 전달하는 argument의 개수가 임의로 변할 수 있는 것.\n",
        "    *  argument를 전달하지 않아도 됨.\n",
        "*  함수를 정의할 때 파라미터 이름 앞에 `*`를 사용하면 가변길이 인수를 전달받을 수 있음.\n",
        "*  함수 내부에서는 가변길이 인수는 튜플로 취급.\n",
        "    *  for-in 반복문 사용 가능.\n",
        "    *  인덱스 사용 가능.\n",
        "*  **(주의)**\n",
        "    *  가변길이 인수는 keyword 방식으로는 전달할 수 없음.\n",
        "    *  함수를 정의할 때, 가변길이 인수를 갖는 파라미터는 오직 1개만 선언 가능."
      ],
      "metadata": {
        "id": "xnY7RKscLVFk"
      }
    },
    {
      "cell_type": "code",
      "source": [
        "def add_all(*values):\n",
        "    total = 0\n",
        "    for x in values:\n",
        "        total += x\n",
        "\n",
        "    return total"
      ],
      "metadata": {
        "id": "Gx7FzMtvfQbn"
      },
      "execution_count": 53,
      "outputs": []
    },
    {
      "cell_type": "code",
      "source": [
        "add_all()"
      ],
      "metadata": {
        "colab": {
          "base_uri": "https://localhost:8080/"
        },
        "id": "HFGplgO2fnnv",
        "outputId": "2e6e9023-4991-4230-a3f6-dcf483b30c35"
      },
      "execution_count": 54,
      "outputs": [
        {
          "output_type": "execute_result",
          "data": {
            "text/plain": [
              "0"
            ]
          },
          "metadata": {},
          "execution_count": 54
        }
      ]
    },
    {
      "cell_type": "code",
      "source": [
        "add_all(1)"
      ],
      "metadata": {
        "colab": {
          "base_uri": "https://localhost:8080/"
        },
        "id": "jV9LI5-Xf01m",
        "outputId": "d68a600c-d444-419b-8e7d-5c022d80dead"
      },
      "execution_count": 55,
      "outputs": [
        {
          "output_type": "execute_result",
          "data": {
            "text/plain": [
              "1"
            ]
          },
          "metadata": {},
          "execution_count": 55
        }
      ]
    },
    {
      "cell_type": "code",
      "source": [
        "add_all(1, 2, 3, 4, 5)"
      ],
      "metadata": {
        "colab": {
          "base_uri": "https://localhost:8080/"
        },
        "id": "jm1tIt70gQ4e",
        "outputId": "7f317a9f-b988-40fc-da87-aa1621c6a21b"
      },
      "execution_count": 56,
      "outputs": [
        {
          "output_type": "execute_result",
          "data": {
            "text/plain": [
              "15"
            ]
          },
          "metadata": {},
          "execution_count": 56
        }
      ]
    },
    {
      "cell_type": "markdown",
      "source": [
        "가변길이 인수 뒤에 파라미터가 있는 경우, 그 파라미터는 keyword 방식으로만 아규먼트를 전달할 수 있음."
      ],
      "metadata": {
        "id": "Ko_ipMIQhc5e"
      }
    },
    {
      "cell_type": "code",
      "source": [
        "def test(*x, y):\n",
        "    print(x)\n",
        "    print(y)"
      ],
      "metadata": {
        "id": "H-p9SmW-heVm"
      },
      "execution_count": 59,
      "outputs": []
    },
    {
      "cell_type": "code",
      "source": [
        "test(1, 2, 3, y=5)"
      ],
      "metadata": {
        "colab": {
          "base_uri": "https://localhost:8080/"
        },
        "id": "gtTD0T9bhjeG",
        "outputId": "ad35733a-df64-4427-ca1d-3e29628c6a62"
      },
      "execution_count": 61,
      "outputs": [
        {
          "output_type": "stream",
          "name": "stdout",
          "text": [
            "(1, 2, 3)\n",
            "5\n"
          ]
        }
      ]
    },
    {
      "cell_type": "code",
      "source": [
        "def keyword_only(*, x, y, z):\n",
        "    print(f'x={x}, y={y}, z={z}')"
      ],
      "metadata": {
        "id": "MRBEL-v9i5QV"
      },
      "execution_count": 62,
      "outputs": []
    },
    {
      "cell_type": "code",
      "source": [
        "keyword_only(x=1, y=2, z=3)"
      ],
      "metadata": {
        "colab": {
          "base_uri": "https://localhost:8080/"
        },
        "id": "AIt4BI_DjCl2",
        "outputId": "c0478051-9de4-4fe6-afec-23bb093d8bef"
      },
      "execution_count": 64,
      "outputs": [
        {
          "output_type": "stream",
          "name": "stdout",
          "text": [
            "x=1, y=2, z=3\n"
          ]
        }
      ]
    },
    {
      "cell_type": "code",
      "source": [
        "print(1, 2, 3)\n",
        "print()\n",
        "print('hello')"
      ],
      "metadata": {
        "colab": {
          "base_uri": "https://localhost:8080/"
        },
        "id": "C7Lpsk3qjjdl",
        "outputId": "fbf5df23-ada8-4342-f830-af92937d1035"
      },
      "execution_count": 67,
      "outputs": [
        {
          "output_type": "stream",
          "name": "stdout",
          "text": [
            "1 2 3\n",
            "\n",
            "hello\n"
          ]
        }
      ]
    },
    {
      "cell_type": "code",
      "source": [
        "print(1, 2, 3, sep='-')"
      ],
      "metadata": {
        "colab": {
          "base_uri": "https://localhost:8080/"
        },
        "id": "QTBOA_7okIo8",
        "outputId": "f3d4cda6-4644-43ee-fb4a-a78e82144a5f"
      },
      "execution_count": 70,
      "outputs": [
        {
          "output_type": "stream",
          "name": "stdout",
          "text": [
            "1-2-3\n"
          ]
        }
      ]
    },
    {
      "cell_type": "code",
      "source": [
        "print('hello', end=' ')\n",
        "print('python')"
      ],
      "metadata": {
        "colab": {
          "base_uri": "https://localhost:8080/"
        },
        "id": "87apnqSbk6w9",
        "outputId": "518c6229-95e6-4ec2-d75d-1c90a2c8bb2b"
      },
      "execution_count": 71,
      "outputs": [
        {
          "output_type": "stream",
          "name": "stdout",
          "text": [
            "hello python\n"
          ]
        }
      ]
    },
    {
      "cell_type": "markdown",
      "source": [
        "# 가변길이 키워드 인수(variable-length keyword argument)\n",
        "\n",
        "*  함수를 정의할 때 파라미터 이름 앞에 `**`를 붙임.\n",
        "*  가변길이 인수: 함수를 호출할 때 전달하는 아규먼트의 개수 제한이 없음.\n",
        "*  keyword argument: 함수를 호출할 때 반드시 `param=value` 형식으로 전달해야 함.\n",
        "*  함수 내부에서 가변길이 키워드 인수는 dict로 취급함.\n",
        "*  함수 호출할 때 파라미터 이름은 아무렇게나 전달해도 됨.\n",
        "*  가변길이 키워드 인수는 함수에서 1개만 사용 가능.\n"
      ],
      "metadata": {
        "id": "lIAPa02Glp2M"
      }
    },
    {
      "cell_type": "code",
      "source": [
        "def test2(**kwargs):\n",
        "    print(kwargs)"
      ],
      "metadata": {
        "id": "n8qBVtHYm1P0"
      },
      "execution_count": 72,
      "outputs": []
    },
    {
      "cell_type": "code",
      "source": [
        "test2()"
      ],
      "metadata": {
        "colab": {
          "base_uri": "https://localhost:8080/"
        },
        "id": "uZAyiWvim8U0",
        "outputId": "71d1cb7d-e8da-49aa-8d4e-ae4f2aa1ff23"
      },
      "execution_count": 73,
      "outputs": [
        {
          "output_type": "stream",
          "name": "stdout",
          "text": [
            "{}\n"
          ]
        }
      ]
    },
    {
      "cell_type": "code",
      "source": [
        "test2(x=1, msg='hello')"
      ],
      "metadata": {
        "colab": {
          "base_uri": "https://localhost:8080/"
        },
        "id": "BkIe9oS3nC7U",
        "outputId": "aa61fc6c-7b61-4f9a-c066-de7fb7b2bc21"
      },
      "execution_count": 76,
      "outputs": [
        {
          "output_type": "stream",
          "name": "stdout",
          "text": [
            "{'x': 1, 'msg': 'hello'}\n"
          ]
        }
      ]
    },
    {
      "cell_type": "code",
      "source": [
        "def make_emp_info(emp_no, emp_name, **kwargs):\n",
        "    emp = {'emp_no': emp_no, 'emp_name': emp_name}\n",
        "    for k, v in kwargs.items():\n",
        "        emp[k] = v\n",
        "\n",
        "    return emp"
      ],
      "metadata": {
        "id": "CjBCnrwkn3Qc"
      },
      "execution_count": 77,
      "outputs": []
    },
    {
      "cell_type": "code",
      "source": [
        "make_emp_info(1, 'king')"
      ],
      "metadata": {
        "colab": {
          "base_uri": "https://localhost:8080/"
        },
        "id": "56lxXze-oiAs",
        "outputId": "aca79800-6a12-423b-d9e4-02fde07196e7"
      },
      "execution_count": 78,
      "outputs": [
        {
          "output_type": "execute_result",
          "data": {
            "text/plain": [
              "{'emp_no': 1, 'emp_name': 'king'}"
            ]
          },
          "metadata": {},
          "execution_count": 78
        }
      ]
    },
    {
      "cell_type": "code",
      "source": [
        "make_emp_info(2, '홍길동', email='gildong@test.com', dept='HR')"
      ],
      "metadata": {
        "colab": {
          "base_uri": "https://localhost:8080/"
        },
        "id": "98gkApaHo3Tr",
        "outputId": "5b9e28a5-f07a-4b30-df6c-00891cd1acd3"
      },
      "execution_count": 79,
      "outputs": [
        {
          "output_type": "execute_result",
          "data": {
            "text/plain": [
              "{'emp_no': 2, 'emp_name': '홍길동', 'email': 'gildong@test.com', 'dept': 'HR'}"
            ]
          },
          "metadata": {},
          "execution_count": 79
        }
      ]
    }
  ]
}