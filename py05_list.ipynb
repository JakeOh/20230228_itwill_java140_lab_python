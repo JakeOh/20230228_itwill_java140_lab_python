{
  "nbformat": 4,
  "nbformat_minor": 0,
  "metadata": {
    "colab": {
      "provenance": [],
      "authorship_tag": "ABX9TyNAncjHtYjmCNBGN/7gAmAF",
      "include_colab_link": true
    },
    "kernelspec": {
      "name": "python3",
      "display_name": "Python 3"
    },
    "language_info": {
      "name": "python"
    }
  },
  "cells": [
    {
      "cell_type": "markdown",
      "metadata": {
        "id": "view-in-github",
        "colab_type": "text"
      },
      "source": [
        "<a href=\"https://colab.research.google.com/github/JakeOh/20230228_itwill_java140_lab_python/blob/main/py05_list.ipynb\" target=\"_parent\"><img src=\"https://colab.research.google.com/assets/colab-badge.svg\" alt=\"Open In Colab\"/></a>"
      ]
    },
    {
      "cell_type": "markdown",
      "source": [
        "# list\n",
        "\n",
        "*  여러 개의 값들을 하나의 변수에 저장하기 위한 데이터 타입.\n",
        "*  element(원소, 요소): 리스트에 저장되는 각각의 값.\n",
        "*  index(인덱스): 리스트에서 원소가 저장된 위치\n",
        "    *  리스트의 인덱스는 **0**부터 시작.\n",
        "    *  리스트의 마지막 인덱스는 (원소 개수 - 1).\n",
        "*  리스트는 원소들을 추가, 삭제, 변경할 수 있음.\n",
        "    *  `tuple`과 다른 점!\n"
      ],
      "metadata": {
        "id": "6R8zViXrhu1B"
      }
    },
    {
      "cell_type": "code",
      "execution_count": 1,
      "metadata": {
        "colab": {
          "base_uri": "https://localhost:8080/"
        },
        "id": "bWKrr_uzhh0j",
        "outputId": "e437da17-b042-4c7e-944f-d9952860ae39"
      },
      "outputs": [
        {
          "output_type": "execute_result",
          "data": {
            "text/plain": [
              "[1, 2, 3, 10, 20, 30]"
            ]
          },
          "metadata": {},
          "execution_count": 1
        }
      ],
      "source": [
        "# 숫자들을 저장하는 리스트\n",
        "numbers = [1, 2, 3, 10, 20, 30]\n",
        "numbers"
      ]
    },
    {
      "cell_type": "markdown",
      "source": [
        "# 인덱싱(indexing)\n",
        "\n",
        "인덱스를 사용해서 리스트의 원소를 참조하는 방법."
      ],
      "metadata": {
        "id": "twdoTUGgj9YA"
      }
    },
    {
      "cell_type": "code",
      "source": [
        "numbers[0]  # 리스트 numbers의 인덱스 0 위치의 원소"
      ],
      "metadata": {
        "colab": {
          "base_uri": "https://localhost:8080/"
        },
        "id": "fsHKiSC5jtIA",
        "outputId": "ef610ced-6bac-4cb6-89fb-8cc5f5415c11"
      },
      "execution_count": 2,
      "outputs": [
        {
          "output_type": "execute_result",
          "data": {
            "text/plain": [
              "1"
            ]
          },
          "metadata": {},
          "execution_count": 2
        }
      ]
    },
    {
      "cell_type": "code",
      "source": [
        "numbers[5]  # 리스트 numbers의 인덱스 5 위치의 원소"
      ],
      "metadata": {
        "colab": {
          "base_uri": "https://localhost:8080/"
        },
        "id": "_jQQaPIYn532",
        "outputId": "26f8f02c-ad3d-4820-8ef3-f19e30cbd635"
      },
      "execution_count": 3,
      "outputs": [
        {
          "output_type": "execute_result",
          "data": {
            "text/plain": [
              "30"
            ]
          },
          "metadata": {},
          "execution_count": 3
        }
      ]
    },
    {
      "cell_type": "code",
      "source": [
        "numbers[-1]  # 리스트에서 가장 마지막 원소"
      ],
      "metadata": {
        "colab": {
          "base_uri": "https://localhost:8080/"
        },
        "id": "nWlBJtD2oGPx",
        "outputId": "1b4aaeef-4dfc-43f9-ef2c-1383392b3691"
      },
      "execution_count": 4,
      "outputs": [
        {
          "output_type": "execute_result",
          "data": {
            "text/plain": [
              "30"
            ]
          },
          "metadata": {},
          "execution_count": 4
        }
      ]
    },
    {
      "cell_type": "code",
      "source": [
        "numbers[-6]"
      ],
      "metadata": {
        "colab": {
          "base_uri": "https://localhost:8080/"
        },
        "id": "Q5FnC5nNpzTB",
        "outputId": "1fe3b653-d1cd-4fbf-aa94-fe9a854f4ac8"
      },
      "execution_count": 5,
      "outputs": [
        {
          "output_type": "execute_result",
          "data": {
            "text/plain": [
              "1"
            ]
          },
          "metadata": {},
          "execution_count": 5
        }
      ]
    },
    {
      "cell_type": "markdown",
      "source": [
        "# slicing\n",
        "\n",
        "인덱스를 사용해서 리스트의 부분집합(리스트)를 잘라내는 방법.\n",
        "\n",
        "`list[start:end]`\n",
        "\n",
        "*  start <= index < end 범위의 인덱스 위치의 원소들을 잘라냄.\n",
        "*  start를 생략한 경우에는 첫번째 원소부터 잘라냄.\n",
        "    *  `list[0:5]`과 `list[:5]`는 같은 결과.\n",
        "*  end를 생략한 경우에는 마지막 원소까지 잘라냄.\n",
        "*  리스트를 slicing한 결과는 또다른 새로운 **리스트**.\n"
      ],
      "metadata": {
        "id": "wmTPyXkYqIJR"
      }
    },
    {
      "cell_type": "code",
      "source": [
        "numbers"
      ],
      "metadata": {
        "colab": {
          "base_uri": "https://localhost:8080/"
        },
        "id": "W4QF4nGErZ_B",
        "outputId": "4efa79a4-67b8-4960-a294-21f90d820e20"
      },
      "execution_count": 6,
      "outputs": [
        {
          "output_type": "execute_result",
          "data": {
            "text/plain": [
              "[1, 2, 3, 10, 20, 30]"
            ]
          },
          "metadata": {},
          "execution_count": 6
        }
      ]
    },
    {
      "cell_type": "code",
      "source": [
        "numbers[1:4]  # 1 <= index < 4"
      ],
      "metadata": {
        "colab": {
          "base_uri": "https://localhost:8080/"
        },
        "id": "EJwa7faurbb5",
        "outputId": "21b2df0c-97f6-4fe7-a109-279702666fc4"
      },
      "execution_count": 7,
      "outputs": [
        {
          "output_type": "execute_result",
          "data": {
            "text/plain": [
              "[2, 3, 10]"
            ]
          },
          "metadata": {},
          "execution_count": 7
        }
      ]
    },
    {
      "cell_type": "code",
      "source": [
        "numbers[3:6]"
      ],
      "metadata": {
        "colab": {
          "base_uri": "https://localhost:8080/"
        },
        "id": "YZSa2U5-rp0o",
        "outputId": "c57c9fc0-c286-4921-d074-078462d93bfb"
      },
      "execution_count": 8,
      "outputs": [
        {
          "output_type": "execute_result",
          "data": {
            "text/plain": [
              "[10, 20, 30]"
            ]
          },
          "metadata": {},
          "execution_count": 8
        }
      ]
    },
    {
      "cell_type": "code",
      "source": [
        "numbers[3:]"
      ],
      "metadata": {
        "colab": {
          "base_uri": "https://localhost:8080/"
        },
        "id": "WmSfciv8sfnp",
        "outputId": "4d0080e4-beea-4ff8-9752-03473e6b2ef7"
      },
      "execution_count": 9,
      "outputs": [
        {
          "output_type": "execute_result",
          "data": {
            "text/plain": [
              "[10, 20, 30]"
            ]
          },
          "metadata": {},
          "execution_count": 9
        }
      ]
    },
    {
      "cell_type": "code",
      "source": [
        "numbers[:3] # 리스트에서 앞에서 3개를 선택"
      ],
      "metadata": {
        "colab": {
          "base_uri": "https://localhost:8080/"
        },
        "id": "BvHilgV2sqD5",
        "outputId": "559cd643-f633-4002-b399-85ba39984992"
      },
      "execution_count": 10,
      "outputs": [
        {
          "output_type": "execute_result",
          "data": {
            "text/plain": [
              "[1, 2, 3]"
            ]
          },
          "metadata": {},
          "execution_count": 10
        }
      ]
    },
    {
      "cell_type": "code",
      "source": [
        "numbers[-3:]  # 리스트에서 뒤에서 3개"
      ],
      "metadata": {
        "colab": {
          "base_uri": "https://localhost:8080/"
        },
        "id": "c9UpLxsktTP5",
        "outputId": "d9eaa45f-aed2-47e6-ea24-0cc687275051"
      },
      "execution_count": 11,
      "outputs": [
        {
          "output_type": "execute_result",
          "data": {
            "text/plain": [
              "[10, 20, 30]"
            ]
          },
          "metadata": {},
          "execution_count": 11
        }
      ]
    },
    {
      "cell_type": "code",
      "source": [
        "numbers[0:1]  # slicing -> 리스트"
      ],
      "metadata": {
        "colab": {
          "base_uri": "https://localhost:8080/"
        },
        "id": "dzrk1CzpuD0B",
        "outputId": "2d8af6ed-fad8-45a2-aa71-b5505fec8cc2"
      },
      "execution_count": 12,
      "outputs": [
        {
          "output_type": "execute_result",
          "data": {
            "text/plain": [
              "[1]"
            ]
          },
          "metadata": {},
          "execution_count": 12
        }
      ]
    },
    {
      "cell_type": "code",
      "source": [
        "numbers[0]  # indexing -> 값(숫자)"
      ],
      "metadata": {
        "colab": {
          "base_uri": "https://localhost:8080/"
        },
        "id": "edZiqhA4uaDZ",
        "outputId": "252c672b-0c35-4f0a-f119-f58163210a79"
      },
      "execution_count": 13,
      "outputs": [
        {
          "output_type": "execute_result",
          "data": {
            "text/plain": [
              "1"
            ]
          },
          "metadata": {},
          "execution_count": 13
        }
      ]
    },
    {
      "cell_type": "markdown",
      "source": [
        "# 문자열(str)\n",
        "\n",
        "*  문자들의 *리스트*.\n",
        "*  문자열은 인덱스를 사용할 수 있음.\n",
        "    *  indexing, slicing 가능.\n"
      ],
      "metadata": {
        "id": "9w4nEyH_u4sh"
      }
    },
    {
      "cell_type": "code",
      "source": [
        "message = '안녕하세요, 여러분!'  # 11개의 문자들로 이루어진 리스트."
      ],
      "metadata": {
        "id": "fM-_dVJfvaGh"
      },
      "execution_count": 14,
      "outputs": []
    },
    {
      "cell_type": "code",
      "source": [
        "message[0]  # 문자열에서 첫번째 문자"
      ],
      "metadata": {
        "colab": {
          "base_uri": "https://localhost:8080/",
          "height": 36
        },
        "id": "XUqA6mOcveJE",
        "outputId": "f7a9d3e5-9770-4c0c-a41c-030f113c4c5b"
      },
      "execution_count": 15,
      "outputs": [
        {
          "output_type": "execute_result",
          "data": {
            "text/plain": [
              "'안'"
            ],
            "application/vnd.google.colaboratory.intrinsic+json": {
              "type": "string"
            }
          },
          "metadata": {},
          "execution_count": 15
        }
      ]
    },
    {
      "cell_type": "code",
      "source": [
        "message[-1]  # 문자열에서 마지막 문자"
      ],
      "metadata": {
        "colab": {
          "base_uri": "https://localhost:8080/",
          "height": 36
        },
        "id": "m61-l1WOvymR",
        "outputId": "fa9bd8aa-efe3-4004-a30b-278b91edd7a8"
      },
      "execution_count": 19,
      "outputs": [
        {
          "output_type": "execute_result",
          "data": {
            "text/plain": [
              "'!'"
            ],
            "application/vnd.google.colaboratory.intrinsic+json": {
              "type": "string"
            }
          },
          "metadata": {},
          "execution_count": 19
        }
      ]
    },
    {
      "cell_type": "code",
      "source": [
        "message[:3]  # 문자열에서 앞에서 3글자"
      ],
      "metadata": {
        "colab": {
          "base_uri": "https://localhost:8080/",
          "height": 36
        },
        "id": "ZPrcIpipwLsp",
        "outputId": "2546db1a-128b-4571-f8fd-6d73c51a1083"
      },
      "execution_count": 20,
      "outputs": [
        {
          "output_type": "execute_result",
          "data": {
            "text/plain": [
              "'안녕하'"
            ],
            "application/vnd.google.colaboratory.intrinsic+json": {
              "type": "string"
            }
          },
          "metadata": {},
          "execution_count": 20
        }
      ]
    },
    {
      "cell_type": "code",
      "source": [
        "message[-3:]  # 문자열에서 뒤에서 3글자"
      ],
      "metadata": {
        "colab": {
          "base_uri": "https://localhost:8080/",
          "height": 36
        },
        "id": "UyZSGs6hwRfi",
        "outputId": "5393f705-3421-4361-a72e-b8402db31ce3"
      },
      "execution_count": 21,
      "outputs": [
        {
          "output_type": "execute_result",
          "data": {
            "text/plain": [
              "'러분!'"
            ],
            "application/vnd.google.colaboratory.intrinsic+json": {
              "type": "string"
            }
          },
          "metadata": {},
          "execution_count": 21
        }
      ]
    },
    {
      "cell_type": "code",
      "source": [
        "# 문자열 산술 연산: +, *\n",
        "print('hello' + 'python')\n",
        "print('hello' * 3)"
      ],
      "metadata": {
        "colab": {
          "base_uri": "https://localhost:8080/"
        },
        "id": "2uo-NpB1w4eJ",
        "outputId": "c2cc59ad-9d14-4d6e-e56b-10a05708a258"
      },
      "execution_count": 23,
      "outputs": [
        {
          "output_type": "stream",
          "name": "stdout",
          "text": [
            "hellopython\n",
            "hellohellohello\n"
          ]
        }
      ]
    },
    {
      "cell_type": "markdown",
      "source": [
        "# 리스트의 산술 연산\n",
        "\n",
        "*  `list + list`\n",
        "*  `list * int` 또는 `int * list`\n"
      ],
      "metadata": {
        "id": "jhq2wXlzxJcM"
      }
    },
    {
      "cell_type": "code",
      "source": [
        "[1, 2, 3] + [4, 5, 6]  # concatenate"
      ],
      "metadata": {
        "colab": {
          "base_uri": "https://localhost:8080/"
        },
        "id": "SrLilu29xdp7",
        "outputId": "ba53a636-7ff1-47c5-de75-7bcbcdf9c5d4"
      },
      "execution_count": 24,
      "outputs": [
        {
          "output_type": "execute_result",
          "data": {
            "text/plain": [
              "[1, 2, 3, 4, 5, 6]"
            ]
          },
          "metadata": {},
          "execution_count": 24
        }
      ]
    },
    {
      "cell_type": "code",
      "source": [
        "[1, 2, 3] * 3  # replicate"
      ],
      "metadata": {
        "colab": {
          "base_uri": "https://localhost:8080/"
        },
        "id": "ozrYWXPbxh2M",
        "outputId": "b5288bc7-6349-4016-bacb-8fc5f4494130"
      },
      "execution_count": 25,
      "outputs": [
        {
          "output_type": "execute_result",
          "data": {
            "text/plain": [
              "[1, 2, 3, 1, 2, 3, 1, 2, 3]"
            ]
          },
          "metadata": {},
          "execution_count": 25
        }
      ]
    },
    {
      "cell_type": "markdown",
      "source": [
        "# list와 for 반복문"
      ],
      "metadata": {
        "id": "9b_MBrNE1_TC"
      }
    },
    {
      "cell_type": "code",
      "source": [
        "for x in 'hello':\n",
        "    print(x)"
      ],
      "metadata": {
        "colab": {
          "base_uri": "https://localhost:8080/"
        },
        "id": "Y91wNgfcxvMJ",
        "outputId": "1278173c-b099-4a0a-b4f9-13a37ff49394"
      },
      "execution_count": 26,
      "outputs": [
        {
          "output_type": "stream",
          "name": "stdout",
          "text": [
            "h\n",
            "e\n",
            "l\n",
            "l\n",
            "o\n"
          ]
        }
      ]
    },
    {
      "cell_type": "code",
      "source": [
        "numbers = [1, 10, 5, 100]\n",
        "for x in numbers:\n",
        "    print(x)"
      ],
      "metadata": {
        "colab": {
          "base_uri": "https://localhost:8080/"
        },
        "id": "Kk0lXujf2U-y",
        "outputId": "ca298216-c544-439a-9fdd-9e05ec3f5ee2"
      },
      "execution_count": 27,
      "outputs": [
        {
          "output_type": "stream",
          "name": "stdout",
          "text": [
            "1\n",
            "10\n",
            "5\n",
            "100\n"
          ]
        }
      ]
    },
    {
      "cell_type": "code",
      "source": [
        "for i in range(len(numbers)):  # 0 <= x < len\n",
        "    print(i, ':', numbers[i])"
      ],
      "metadata": {
        "colab": {
          "base_uri": "https://localhost:8080/"
        },
        "id": "vYaPdMcE2r3a",
        "outputId": "239f3ded-daad-43b1-f808-7c62a888066b"
      },
      "execution_count": 30,
      "outputs": [
        {
          "output_type": "stream",
          "name": "stdout",
          "text": [
            "0 : 1\n",
            "1 : 10\n",
            "2 : 5\n",
            "3 : 100\n"
          ]
        }
      ]
    },
    {
      "cell_type": "code",
      "source": [
        "for i, v in enumerate(numbers):\n",
        "    print(i, ':', v)"
      ],
      "metadata": {
        "colab": {
          "base_uri": "https://localhost:8080/"
        },
        "id": "g5EznqhY4Oxa",
        "outputId": "1ff8653b-aaaf-46fe-a59c-a3af0286d8ef"
      },
      "execution_count": 31,
      "outputs": [
        {
          "output_type": "stream",
          "name": "stdout",
          "text": [
            "0 : 1\n",
            "1 : 10\n",
            "2 : 5\n",
            "3 : 100\n"
          ]
        }
      ]
    },
    {
      "cell_type": "code",
      "source": [
        "numbers1 = [1, 2, 3]\n",
        "numbers2 = [10, 11, 12]\n",
        "# numbers1과 numbers2의 같은 인덱스의 원소들끼리의 합을 원소로 갖는 리스트\n",
        "# [11, 13, 15]"
      ],
      "metadata": {
        "id": "cdmpXtVS53ua"
      },
      "execution_count": 34,
      "outputs": []
    },
    {
      "cell_type": "code",
      "source": [
        "result = []  # 빈(empty) 리스트\n",
        "for i in range(len(numbers1)):  # 0 <= i < len\n",
        "    result.append(numbers1[i] + numbers2[i])\n",
        "\n",
        "result"
      ],
      "metadata": {
        "colab": {
          "base_uri": "https://localhost:8080/"
        },
        "id": "Qx_--_7y7pcy",
        "outputId": "0ba4f1de-8efc-4601-918d-79105ed1a169"
      },
      "execution_count": 35,
      "outputs": [
        {
          "output_type": "execute_result",
          "data": {
            "text/plain": [
              "[11, 13, 15]"
            ]
          },
          "metadata": {},
          "execution_count": 35
        }
      ]
    },
    {
      "cell_type": "code",
      "source": [
        "result = []\n",
        "for x, y in zip(numbers1, numbers2):\n",
        "    result.append(x + y)\n",
        "\n",
        "result"
      ],
      "metadata": {
        "colab": {
          "base_uri": "https://localhost:8080/"
        },
        "id": "TMasFIM-8LVz",
        "outputId": "072d71d7-66a9-4137-a633-91ce8db46485"
      },
      "execution_count": 36,
      "outputs": [
        {
          "output_type": "execute_result",
          "data": {
            "text/plain": [
              "[11, 13, 15]"
            ]
          },
          "metadata": {},
          "execution_count": 36
        }
      ]
    },
    {
      "cell_type": "markdown",
      "source": [
        "파이썬에 난수를 만드는 방법:"
      ],
      "metadata": {
        "id": "TDIdqXoP-A2z"
      }
    },
    {
      "cell_type": "code",
      "source": [
        "import random  # random 모듈을 임포트"
      ],
      "metadata": {
        "id": "nhFTiVs68qfK"
      },
      "execution_count": 37,
      "outputs": []
    },
    {
      "cell_type": "code",
      "source": [
        "# random 모듈의 random() 함수를 호출\n",
        "random.random()  # [0, 1) 범위(0 <= x < 1)의 실수 난수를 리턴."
      ],
      "metadata": {
        "colab": {
          "base_uri": "https://localhost:8080/"
        },
        "id": "FIOf51M_-IET",
        "outputId": "bee46c85-4215-4136-ae05-9878edb8d71d"
      },
      "execution_count": 44,
      "outputs": [
        {
          "output_type": "execute_result",
          "data": {
            "text/plain": [
              "0.05866224468805148"
            ]
          },
          "metadata": {},
          "execution_count": 44
        }
      ]
    },
    {
      "cell_type": "code",
      "source": [
        "# random 모듈의 randrange() 함수를 호출\n",
        "random.randrange(3)  # [0, 3) 범위의 정수 난수를 리턴."
      ],
      "metadata": {
        "colab": {
          "base_uri": "https://localhost:8080/"
        },
        "id": "XTkrlnQw-2_t",
        "outputId": "da950fcf-e994-464d-8902-78d15a0f7a11"
      },
      "execution_count": 54,
      "outputs": [
        {
          "output_type": "execute_result",
          "data": {
            "text/plain": [
              "1"
            ]
          },
          "metadata": {},
          "execution_count": 54
        }
      ]
    },
    {
      "cell_type": "code",
      "source": [
        "random.randrange(1, 4)  #[1, 4) 범위의 정수 난수를 리턴."
      ],
      "metadata": {
        "colab": {
          "base_uri": "https://localhost:8080/"
        },
        "id": "n8pg6S9G_dJD",
        "outputId": "979898d3-f459-402a-bb0c-4839a3ffa218"
      },
      "execution_count": 65,
      "outputs": [
        {
          "output_type": "execute_result",
          "data": {
            "text/plain": [
              "2"
            ]
          },
          "metadata": {},
          "execution_count": 65
        }
      ]
    },
    {
      "cell_type": "code",
      "source": [],
      "metadata": {
        "id": "vMS4X1ZG_yhr"
      },
      "execution_count": null,
      "outputs": []
    }
  ]
}