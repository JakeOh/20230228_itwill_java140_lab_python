{
  "nbformat": 4,
  "nbformat_minor": 0,
  "metadata": {
    "colab": {
      "provenance": [],
      "authorship_tag": "ABX9TyOrb0218tvlZ1GcL3rhhTQk",
      "include_colab_link": true
    },
    "kernelspec": {
      "name": "python3",
      "display_name": "Python 3"
    },
    "language_info": {
      "name": "python"
    }
  },
  "cells": [
    {
      "cell_type": "markdown",
      "metadata": {
        "id": "view-in-github",
        "colab_type": "text"
      },
      "source": [
        "<a href=\"https://colab.research.google.com/github/JakeOh/20230228_itwill_java140_lab_python/blob/main/py05_list.ipynb\" target=\"_parent\"><img src=\"https://colab.research.google.com/assets/colab-badge.svg\" alt=\"Open In Colab\"/></a>"
      ]
    },
    {
      "cell_type": "markdown",
      "source": [
        "# list\n",
        "\n",
        "*  여러 개의 값들을 하나의 변수에 저장하기 위한 데이터 타입.\n",
        "*  element(원소, 요소): 리스트에 저장되는 각각의 값.\n",
        "*  index(인덱스): 리스트에서 원소가 저장된 위치\n",
        "    *  리스트의 인덱스는 **0**부터 시작.\n",
        "    *  리스트의 마지막 인덱스는 (원소 개수 - 1).\n",
        "*  리스트는 원소들을 추가, 삭제, 변경할 수 있음.\n",
        "    *  `tuple`과 다른 점!\n"
      ],
      "metadata": {
        "id": "6R8zViXrhu1B"
      }
    },
    {
      "cell_type": "code",
      "execution_count": 1,
      "metadata": {
        "colab": {
          "base_uri": "https://localhost:8080/"
        },
        "id": "bWKrr_uzhh0j",
        "outputId": "e437da17-b042-4c7e-944f-d9952860ae39"
      },
      "outputs": [
        {
          "output_type": "execute_result",
          "data": {
            "text/plain": [
              "[1, 2, 3, 10, 20, 30]"
            ]
          },
          "metadata": {},
          "execution_count": 1
        }
      ],
      "source": [
        "# 숫자들을 저장하는 리스트\n",
        "numbers = [1, 2, 3, 10, 20, 30]\n",
        "numbers"
      ]
    },
    {
      "cell_type": "markdown",
      "source": [
        "# 인덱싱(indexing)"
      ],
      "metadata": {
        "id": "twdoTUGgj9YA"
      }
    },
    {
      "cell_type": "code",
      "source": [],
      "metadata": {
        "id": "fsHKiSC5jtIA"
      },
      "execution_count": null,
      "outputs": []
    }
  ]
}