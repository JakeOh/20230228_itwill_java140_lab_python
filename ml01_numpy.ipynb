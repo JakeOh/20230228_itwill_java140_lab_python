{
  "nbformat": 4,
  "nbformat_minor": 0,
  "metadata": {
    "colab": {
      "provenance": [],
      "authorship_tag": "ABX9TyNb8TRbnOqW1rPAaG6hgOrQ",
      "include_colab_link": true
    },
    "kernelspec": {
      "name": "python3",
      "display_name": "Python 3"
    },
    "language_info": {
      "name": "python"
    }
  },
  "cells": [
    {
      "cell_type": "markdown",
      "metadata": {
        "id": "view-in-github",
        "colab_type": "text"
      },
      "source": [
        "<a href=\"https://colab.research.google.com/github/JakeOh/20230228_itwill_java140_lab_python/blob/main/ml01_numpy.ipynb\" target=\"_parent\"><img src=\"https://colab.research.google.com/assets/colab-badge.svg\" alt=\"Open In Colab\"/></a>"
      ]
    },
    {
      "cell_type": "code",
      "execution_count": 1,
      "metadata": {
        "id": "kzUW6_qMcvI4"
      },
      "outputs": [],
      "source": [
        "import numpy as np"
      ]
    },
    {
      "cell_type": "markdown",
      "source": [
        "# `np.ndarray` 클래스의 속성(property)"
      ],
      "metadata": {
        "id": "pZiHkqpDdDqA"
      }
    },
    {
      "cell_type": "code",
      "source": [
        "arr = np.ones(shape=(2, 3)) # 모든 원소가 1.0인 (2, 3) 모양의 배열"
      ],
      "metadata": {
        "id": "PABKKslXdJIB"
      },
      "execution_count": 2,
      "outputs": []
    },
    {
      "cell_type": "code",
      "source": [
        "print(arr)"
      ],
      "metadata": {
        "colab": {
          "base_uri": "https://localhost:8080/"
        },
        "id": "UClcsiLbdlkS",
        "outputId": "3bc6c5db-87d4-4d19-9399-25116528a64c"
      },
      "execution_count": 3,
      "outputs": [
        {
          "output_type": "stream",
          "name": "stdout",
          "text": [
            "[[1. 1. 1.]\n",
            " [1. 1. 1.]]\n"
          ]
        }
      ]
    },
    {
      "cell_type": "code",
      "source": [
        "arr.dtype  # 배열 원소의 데이터 타입"
      ],
      "metadata": {
        "colab": {
          "base_uri": "https://localhost:8080/"
        },
        "id": "leCR13GmdmVP",
        "outputId": "b20c61ce-8b5f-423a-ea41-f85ade37c8da"
      },
      "execution_count": 4,
      "outputs": [
        {
          "output_type": "execute_result",
          "data": {
            "text/plain": [
              "dtype('float64')"
            ]
          },
          "metadata": {},
          "execution_count": 4
        }
      ]
    },
    {
      "cell_type": "code",
      "source": [
        "arr.shape  # 배열의 모양: 배열의 각 축(axis)를 따라서 있는 원소의 개수."
      ],
      "metadata": {
        "colab": {
          "base_uri": "https://localhost:8080/"
        },
        "id": "JuGXBd_yeOgr",
        "outputId": "5179cb38-024b-4b6b-c959-a4203d3fd755"
      },
      "execution_count": 5,
      "outputs": [
        {
          "output_type": "execute_result",
          "data": {
            "text/plain": [
              "(2, 3)"
            ]
          },
          "metadata": {},
          "execution_count": 5
        }
      ]
    },
    {
      "cell_type": "code",
      "source": [
        "arr.ndim  # 배열의 차원(dimension): 배열의 축(axis)이 개수."
      ],
      "metadata": {
        "colab": {
          "base_uri": "https://localhost:8080/"
        },
        "id": "-6navvsZef8f",
        "outputId": "a153401a-8511-4128-f080-45a96e8b7b2d"
      },
      "execution_count": 6,
      "outputs": [
        {
          "output_type": "execute_result",
          "data": {
            "text/plain": [
              "2"
            ]
          },
          "metadata": {},
          "execution_count": 6
        }
      ]
    },
    {
      "cell_type": "code",
      "source": [
        "arr.size  # 배열의 크기: 배열의 전체 원소 개수"
      ],
      "metadata": {
        "colab": {
          "base_uri": "https://localhost:8080/"
        },
        "id": "k3ylEcm8fR6Y",
        "outputId": "8b15c09c-e603-4f64-b519-2e86ee5d1e4e"
      },
      "execution_count": 7,
      "outputs": [
        {
          "output_type": "execute_result",
          "data": {
            "text/plain": [
              "6"
            ]
          },
          "metadata": {},
          "execution_count": 7
        }
      ]
    },
    {
      "cell_type": "code",
      "source": [
        "arr = np.arange(10)  # [0, 10) 범위의 1씩 증가하는 정수들로 만들어진 1차원 배열\n",
        "print(arr)\n",
        "print('dtype:', arr.dtype)\n",
        "print('shape:', arr.shape)\n",
        "print('ndim:', arr.ndim)\n",
        "print('size:', arr.size)"
      ],
      "metadata": {
        "colab": {
          "base_uri": "https://localhost:8080/"
        },
        "id": "MRgD1Huif5Qw",
        "outputId": "6c238b73-72c7-4df3-bc23-8ce1701676bc"
      },
      "execution_count": 8,
      "outputs": [
        {
          "output_type": "stream",
          "name": "stdout",
          "text": [
            "[0 1 2 3 4 5 6 7 8 9]\n",
            "dtype: int64\n",
            "shape: (10,)\n",
            "ndim: 1\n",
            "size: 10\n"
          ]
        }
      ]
    },
    {
      "cell_type": "markdown",
      "source": [
        "# indexing\n",
        "\n",
        "*  Python list:\n",
        "    *  `list[i], list[i][j], list[i][j][k], ...`\n",
        "*  numpy ndarray:\n",
        "    *  `array[i], array[i][j], array[i][j][k], ...`\n",
        "    *  `array[i], array[i, j], array[i, j, k], ...`\n"
      ],
      "metadata": {
        "id": "HItuIF1agsjx"
      }
    },
    {
      "cell_type": "code",
      "source": [
        "arr = np.arange(1, 13).reshape((3, 4))\n",
        "print(arr)"
      ],
      "metadata": {
        "colab": {
          "base_uri": "https://localhost:8080/"
        },
        "id": "1g7anoGSgacJ",
        "outputId": "a9813b4f-cdcb-4393-9094-e14124da134d"
      },
      "execution_count": 9,
      "outputs": [
        {
          "output_type": "stream",
          "name": "stdout",
          "text": [
            "[[ 1  2  3  4]\n",
            " [ 5  6  7  8]\n",
            " [ 9 10 11 12]]\n"
          ]
        }
      ]
    },
    {
      "cell_type": "code",
      "source": [
        "arr[0]"
      ],
      "metadata": {
        "colab": {
          "base_uri": "https://localhost:8080/"
        },
        "id": "XD4UODeih1P5",
        "outputId": "4ee59b04-e449-4521-a16a-ca741900fd85"
      },
      "execution_count": 10,
      "outputs": [
        {
          "output_type": "execute_result",
          "data": {
            "text/plain": [
              "array([1, 2, 3, 4])"
            ]
          },
          "metadata": {},
          "execution_count": 10
        }
      ]
    },
    {
      "cell_type": "code",
      "source": [
        "arr[0, 1]  # arr[0][1]과 동일."
      ],
      "metadata": {
        "colab": {
          "base_uri": "https://localhost:8080/"
        },
        "id": "SSiTAJtqiI0x",
        "outputId": "bb1247da-b4d6-4639-8bdf-d220c93ab92e"
      },
      "execution_count": 11,
      "outputs": [
        {
          "output_type": "execute_result",
          "data": {
            "text/plain": [
              "2"
            ]
          },
          "metadata": {},
          "execution_count": 11
        }
      ]
    },
    {
      "cell_type": "markdown",
      "source": [
        "# slicing"
      ],
      "metadata": {
        "id": "MGAbDN-diYPx"
      }
    },
    {
      "cell_type": "markdown",
      "source": [
        "## 1차원 배열 slicing"
      ],
      "metadata": {
        "id": "q9JR0LYVidOJ"
      }
    },
    {
      "cell_type": "code",
      "source": [
        "np.random.seed(1)\n",
        "arr = np.random.randint(100, size=10)  # [0, 100) 범위의 정수 난수 10개를 갖는 1차원 배열\n",
        "print(arr)"
      ],
      "metadata": {
        "colab": {
          "base_uri": "https://localhost:8080/"
        },
        "id": "2tKZE1CViMwp",
        "outputId": "b2ed154f-84fe-465a-ee4e-f0449a7b1494"
      },
      "execution_count": 12,
      "outputs": [
        {
          "output_type": "stream",
          "name": "stdout",
          "text": [
            "[37 12 72  9 75  5 79 64 16  1]\n"
          ]
        }
      ]
    },
    {
      "cell_type": "code",
      "source": [
        "arr[2:6]"
      ],
      "metadata": {
        "colab": {
          "base_uri": "https://localhost:8080/"
        },
        "id": "01D0YvkXi-95",
        "outputId": "9a43af3d-f2f7-49ce-9299-cf4071bf383d"
      },
      "execution_count": 13,
      "outputs": [
        {
          "output_type": "execute_result",
          "data": {
            "text/plain": [
              "array([72,  9, 75,  5])"
            ]
          },
          "metadata": {},
          "execution_count": 13
        }
      ]
    },
    {
      "cell_type": "code",
      "source": [
        "arr[:3]  # arr[0:3]과 동일"
      ],
      "metadata": {
        "colab": {
          "base_uri": "https://localhost:8080/"
        },
        "id": "lNL576cXjNB5",
        "outputId": "25edcf8e-4f48-4e6f-ec1a-08db9156872a"
      },
      "execution_count": 14,
      "outputs": [
        {
          "output_type": "execute_result",
          "data": {
            "text/plain": [
              "array([37, 12, 72])"
            ]
          },
          "metadata": {},
          "execution_count": 14
        }
      ]
    },
    {
      "cell_type": "code",
      "source": [
        "arr[-3:]"
      ],
      "metadata": {
        "colab": {
          "base_uri": "https://localhost:8080/"
        },
        "id": "T6tNd4zzjUeR",
        "outputId": "7a36453f-8e2a-453f-8999-7dae9e4458e7"
      },
      "execution_count": 19,
      "outputs": [
        {
          "output_type": "execute_result",
          "data": {
            "text/plain": [
              "array([64, 16,  1])"
            ]
          },
          "metadata": {},
          "execution_count": 19
        }
      ]
    },
    {
      "cell_type": "code",
      "source": [
        "arr[7:]  # arr[7:10]과 동일."
      ],
      "metadata": {
        "colab": {
          "base_uri": "https://localhost:8080/"
        },
        "id": "dXg0bBpyjiii",
        "outputId": "d5c379f5-d00e-438c-ebe3-6522de4e508f"
      },
      "execution_count": 17,
      "outputs": [
        {
          "output_type": "execute_result",
          "data": {
            "text/plain": [
              "array([64, 16,  1])"
            ]
          },
          "metadata": {},
          "execution_count": 17
        }
      ]
    },
    {
      "cell_type": "markdown",
      "source": [
        "## 2차원 배열 slicing"
      ],
      "metadata": {
        "id": "ljdil45kkCds"
      }
    },
    {
      "cell_type": "code",
      "source": [
        "np.random.seed(10)\n",
        "arr = np.random.randint(100, size=(4, 5))\n",
        "print(arr)"
      ],
      "metadata": {
        "colab": {
          "base_uri": "https://localhost:8080/"
        },
        "id": "4oBrwlIbkEoK",
        "outputId": "b030b5a6-fa0b-461d-b6d5-8038a4dd12b1"
      },
      "execution_count": 20,
      "outputs": [
        {
          "output_type": "stream",
          "name": "stdout",
          "text": [
            "[[ 9 15 64 28 89]\n",
            " [93 29  8 73  0]\n",
            " [40 36 16 11 54]\n",
            " [88 62 33 72 78]]\n"
          ]
        }
      ]
    },
    {
      "cell_type": "code",
      "source": [
        "# 첫 2개의 row를 선택. 컬럼의 모든 원소 선택.\n",
        "arr[:2, :]"
      ],
      "metadata": {
        "colab": {
          "base_uri": "https://localhost:8080/"
        },
        "id": "JUWBzXMoki8R",
        "outputId": "7902bcbc-27dd-4985-ccec-d9e7ab1b50b7"
      },
      "execution_count": 21,
      "outputs": [
        {
          "output_type": "execute_result",
          "data": {
            "text/plain": [
              "array([[ 9, 15, 64, 28, 89],\n",
              "       [93, 29,  8, 73,  0]])"
            ]
          },
          "metadata": {},
          "execution_count": 21
        }
      ]
    },
    {
      "cell_type": "code",
      "source": [
        "arr[:2]"
      ],
      "metadata": {
        "colab": {
          "base_uri": "https://localhost:8080/"
        },
        "id": "l52Gav6_lLH6",
        "outputId": "980877d1-899b-4630-dddf-1c6c3859f24f"
      },
      "execution_count": 25,
      "outputs": [
        {
          "output_type": "execute_result",
          "data": {
            "text/plain": [
              "array([[ 9, 15, 64, 28, 89],\n",
              "       [93, 29,  8, 73,  0]])"
            ]
          },
          "metadata": {},
          "execution_count": 25
        }
      ]
    },
    {
      "cell_type": "code",
      "source": [
        "# 첫 2개의 row에서 첫 3개의 column 원소들\n",
        "arr[:2, :3]"
      ],
      "metadata": {
        "colab": {
          "base_uri": "https://localhost:8080/"
        },
        "id": "jCd2AvjKlqPK",
        "outputId": "0e96d30e-8c07-46f5-a7b9-cd10309e1d9f"
      },
      "execution_count": 26,
      "outputs": [
        {
          "output_type": "execute_result",
          "data": {
            "text/plain": [
              "array([[ 9, 15, 64],\n",
              "       [93, 29,  8]])"
            ]
          },
          "metadata": {},
          "execution_count": 26
        }
      ]
    },
    {
      "cell_type": "code",
      "source": [
        "arr[2:, 3:]"
      ],
      "metadata": {
        "colab": {
          "base_uri": "https://localhost:8080/"
        },
        "id": "NNVzSU27mHg6",
        "outputId": "dbf584be-5d9c-4ae3-afa1-181242de05db"
      },
      "execution_count": 27,
      "outputs": [
        {
          "output_type": "execute_result",
          "data": {
            "text/plain": [
              "array([[11, 54],\n",
              "       [72, 78]])"
            ]
          },
          "metadata": {},
          "execution_count": 27
        }
      ]
    },
    {
      "cell_type": "markdown",
      "source": [
        "# Shape 변경"
      ],
      "metadata": {
        "id": "iNXV5hgymTAN"
      }
    },
    {
      "cell_type": "markdown",
      "source": [
        "## `np.ndarray.reshape(shape)`\n",
        "\n",
        "배열의 모양을 변경한 새로운 배열을 리턴."
      ],
      "metadata": {
        "id": "w4KHQLbvqA5k"
      }
    },
    {
      "cell_type": "code",
      "source": [
        "arr_1d = np.arange(12)\n",
        "print(arr_1d)"
      ],
      "metadata": {
        "colab": {
          "base_uri": "https://localhost:8080/"
        },
        "id": "GRBCMTyamJW5",
        "outputId": "a5137f17-7d2c-4993-cf63-aa4c150c3814"
      },
      "execution_count": 28,
      "outputs": [
        {
          "output_type": "stream",
          "name": "stdout",
          "text": [
            "[ 0  1  2  3  4  5  6  7  8  9 10 11]\n"
          ]
        }
      ]
    },
    {
      "cell_type": "code",
      "source": [
        "arr_2d = arr_1d.reshape((3, 4))\n",
        "print(arr_2d)"
      ],
      "metadata": {
        "colab": {
          "base_uri": "https://localhost:8080/"
        },
        "id": "T-k9gEBmqRFs",
        "outputId": "8fdcc3cd-bb3a-4da3-d3c1-a682b9a85d66"
      },
      "execution_count": 29,
      "outputs": [
        {
          "output_type": "stream",
          "name": "stdout",
          "text": [
            "[[ 0  1  2  3]\n",
            " [ 4  5  6  7]\n",
            " [ 8  9 10 11]]\n"
          ]
        }
      ]
    },
    {
      "cell_type": "code",
      "source": [
        "print(arr_1d)"
      ],
      "metadata": {
        "colab": {
          "base_uri": "https://localhost:8080/"
        },
        "id": "FkEJg91pqtFE",
        "outputId": "a696ec93-9d4e-4e1d-db36-6dbb8d441faf"
      },
      "execution_count": 30,
      "outputs": [
        {
          "output_type": "stream",
          "name": "stdout",
          "text": [
            "[ 0  1  2  3  4  5  6  7  8  9 10 11]\n"
          ]
        }
      ]
    },
    {
      "cell_type": "code",
      "source": [
        "# reshape을 할 때 자동으로 계산될 수 있는 차원의 값은 -1로 설정할 수 있음.\n",
        "arr_2d = arr_1d.reshape((2, -1))  # (2, 6)\n",
        "print(arr_2d)"
      ],
      "metadata": {
        "colab": {
          "base_uri": "https://localhost:8080/"
        },
        "id": "h4vage-rqzFs",
        "outputId": "a054ba5f-ef68-4036-f2d0-c3113f475751"
      },
      "execution_count": 31,
      "outputs": [
        {
          "output_type": "stream",
          "name": "stdout",
          "text": [
            "[[ 0  1  2  3  4  5]\n",
            " [ 6  7  8  9 10 11]]\n"
          ]
        }
      ]
    },
    {
      "cell_type": "code",
      "source": [
        "arr_2d = arr_1d.reshape((-1, 3))  # (4, 3)\n",
        "print(arr_2d)"
      ],
      "metadata": {
        "colab": {
          "base_uri": "https://localhost:8080/"
        },
        "id": "2Bd7mAhWrT8c",
        "outputId": "97ca5b3b-df78-44b7-b688-3d62d436467d"
      },
      "execution_count": 32,
      "outputs": [
        {
          "output_type": "stream",
          "name": "stdout",
          "text": [
            "[[ 0  1  2]\n",
            " [ 3  4  5]\n",
            " [ 6  7  8]\n",
            " [ 9 10 11]]\n"
          ]
        }
      ]
    },
    {
      "cell_type": "markdown",
      "source": [
        "## `np.ndarray.ravel()`\n",
        "\n",
        "1차원으로 변환된 배열의 **view**를 리턴. 새로운 배열이 리턴되는 것이 아님. 단지 모양만 다르게 보여줌."
      ],
      "metadata": {
        "id": "_EKGKE4_rvvE"
      }
    },
    {
      "cell_type": "code",
      "source": [
        "print(arr_2d)  # (4, 3) shape의 2차원 배열"
      ],
      "metadata": {
        "colab": {
          "base_uri": "https://localhost:8080/"
        },
        "id": "RiV6usFNrjd8",
        "outputId": "8ad0f05f-7c50-4d32-890d-15af0ca0931a"
      },
      "execution_count": 33,
      "outputs": [
        {
          "output_type": "stream",
          "name": "stdout",
          "text": [
            "[[ 0  1  2]\n",
            " [ 3  4  5]\n",
            " [ 6  7  8]\n",
            " [ 9 10 11]]\n"
          ]
        }
      ]
    },
    {
      "cell_type": "code",
      "source": [
        "raveled = arr_2d.ravel()\n",
        "print(raveled)"
      ],
      "metadata": {
        "colab": {
          "base_uri": "https://localhost:8080/"
        },
        "id": "lVTNaXDrsQfN",
        "outputId": "593b2b4a-e266-4796-c307-fd26849d365d"
      },
      "execution_count": 34,
      "outputs": [
        {
          "output_type": "stream",
          "name": "stdout",
          "text": [
            "[ 0  1  2  3  4  5  6  7  8  9 10 11]\n"
          ]
        }
      ]
    },
    {
      "cell_type": "code",
      "source": [
        "raveled[0] = 100  # 모양이 변경된 1차원 배열의 원소 값을 변경\n",
        "print(raveled)"
      ],
      "metadata": {
        "colab": {
          "base_uri": "https://localhost:8080/"
        },
        "id": "jEOmLtuBscx0",
        "outputId": "7d64b1e5-8c7d-4bec-f56a-1a31b62a0347"
      },
      "execution_count": 36,
      "outputs": [
        {
          "output_type": "stream",
          "name": "stdout",
          "text": [
            "[100   1   2   3   4   5   6   7   8   9  10  11]\n"
          ]
        }
      ]
    },
    {
      "cell_type": "code",
      "source": [
        "print(arr_2d)  # ravel() 결과 배열에서 값을 변경하면 원본 2차원 배열의 원소도 변경"
      ],
      "metadata": {
        "colab": {
          "base_uri": "https://localhost:8080/"
        },
        "id": "MUNnccMTs4VN",
        "outputId": "30ebee6c-c0b9-49ac-c53f-7e293d8d1d55"
      },
      "execution_count": 37,
      "outputs": [
        {
          "output_type": "stream",
          "name": "stdout",
          "text": [
            "[[100   1   2]\n",
            " [  3   4   5]\n",
            " [  6   7   8]\n",
            " [  9  10  11]]\n"
          ]
        }
      ]
    },
    {
      "cell_type": "markdown",
      "source": [
        "## `np.ndarray.flatten()`\n",
        "\n",
        "1차원으로 변환된 배열의 **복사본**을 리턴. 원본 배열과는 별개의 *새로운 배열*을 리턴."
      ],
      "metadata": {
        "id": "vIQImabutXTV"
      }
    },
    {
      "cell_type": "code",
      "source": [
        "print(arr_2d)"
      ],
      "metadata": {
        "colab": {
          "base_uri": "https://localhost:8080/"
        },
        "id": "MUE_7A9as5dd",
        "outputId": "42d2a2df-cb54-4199-83dd-368e936ecdc3"
      },
      "execution_count": 38,
      "outputs": [
        {
          "output_type": "stream",
          "name": "stdout",
          "text": [
            "[[100   1   2]\n",
            " [  3   4   5]\n",
            " [  6   7   8]\n",
            " [  9  10  11]]\n"
          ]
        }
      ]
    },
    {
      "cell_type": "code",
      "source": [
        "flattened = arr_2d.flatten()\n",
        "print(flattened)"
      ],
      "metadata": {
        "colab": {
          "base_uri": "https://localhost:8080/"
        },
        "id": "jj_JR-REt0o9",
        "outputId": "dae27728-03ba-4da4-af16-a714f0e4e0d8"
      },
      "execution_count": 39,
      "outputs": [
        {
          "output_type": "stream",
          "name": "stdout",
          "text": [
            "[100   1   2   3   4   5   6   7   8   9  10  11]\n"
          ]
        }
      ]
    },
    {
      "cell_type": "code",
      "source": [
        "flattened[0] = 0\n",
        "print(flattened)"
      ],
      "metadata": {
        "colab": {
          "base_uri": "https://localhost:8080/"
        },
        "id": "No15NAktt-Zl",
        "outputId": "06e438f8-85d7-4f96-c9e7-a72925537f96"
      },
      "execution_count": 41,
      "outputs": [
        {
          "output_type": "stream",
          "name": "stdout",
          "text": [
            "[ 0  1  2  3  4  5  6  7  8  9 10 11]\n"
          ]
        }
      ]
    },
    {
      "cell_type": "code",
      "source": [
        "print(arr_2d)  # flatten() 결과에서 값을 변경한 것은 원본 2차원 배열에 아무 영향을 주지 않음."
      ],
      "metadata": {
        "colab": {
          "base_uri": "https://localhost:8080/"
        },
        "id": "v0uDwvf_uKO9",
        "outputId": "58afa687-96a9-4443-febe-cceb4c43b18f"
      },
      "execution_count": 42,
      "outputs": [
        {
          "output_type": "stream",
          "name": "stdout",
          "text": [
            "[[100   1   2]\n",
            " [  3   4   5]\n",
            " [  6   7   8]\n",
            " [  9  10  11]]\n"
          ]
        }
      ]
    },
    {
      "cell_type": "markdown",
      "source": [
        "## `np.newaxis` 속성을 사용한 차원 늘리기"
      ],
      "metadata": {
        "id": "TOGDdwxevCH1"
      }
    },
    {
      "cell_type": "code",
      "source": [
        "arr = np.arange(5)  # [0, 5) 범위의 정수 5개를 갖는 (5,) shape의 1차원 배열\n",
        "print(arr)\n",
        "print(arr.shape)\n",
        "print(arr.ndim)"
      ],
      "metadata": {
        "colab": {
          "base_uri": "https://localhost:8080/"
        },
        "id": "8T3hK3JAuLnN",
        "outputId": "fbef30a8-97f6-4664-eacf-b8a789c6d25b"
      },
      "execution_count": 43,
      "outputs": [
        {
          "output_type": "stream",
          "name": "stdout",
          "text": [
            "[0 1 2 3 4]\n",
            "(5,)\n",
            "1\n"
          ]
        }
      ]
    },
    {
      "cell_type": "code",
      "source": [
        "# 배열 arr을 (1, 5) shape의 2차원 배열로 변환\n",
        "arr_2d = arr.reshape((1, -1))  # (1, 5)\n",
        "print(arr_2d)"
      ],
      "metadata": {
        "colab": {
          "base_uri": "https://localhost:8080/"
        },
        "id": "JZtE7iklvbQm",
        "outputId": "8af59227-8dbd-4518-c0e5-0c2bac59f2ee"
      },
      "execution_count": 44,
      "outputs": [
        {
          "output_type": "stream",
          "name": "stdout",
          "text": [
            "[[0 1 2 3 4]]\n"
          ]
        }
      ]
    },
    {
      "cell_type": "code",
      "source": [
        "result = arr[np.newaxis, :]\n",
        "print(result)"
      ],
      "metadata": {
        "colab": {
          "base_uri": "https://localhost:8080/"
        },
        "id": "IoBluvZ2v6IW",
        "outputId": "81a0c3c5-ea70-46cf-cc38-664735ef5f6e"
      },
      "execution_count": 46,
      "outputs": [
        {
          "output_type": "stream",
          "name": "stdout",
          "text": [
            "[[0 1 2 3 4]]\n"
          ]
        }
      ]
    },
    {
      "cell_type": "code",
      "source": [
        "# 배열 arr을 (5, 1) shape의 2차원 배열로 변환\n",
        "arr_2d = arr.reshape((-1, 1))  # (5, 1), (5, -1)\n",
        "print(arr_2d)"
      ],
      "metadata": {
        "colab": {
          "base_uri": "https://localhost:8080/"
        },
        "id": "MuOWGZDNwBut",
        "outputId": "b985333c-03e4-4eee-f5b4-e00d71941395"
      },
      "execution_count": 47,
      "outputs": [
        {
          "output_type": "stream",
          "name": "stdout",
          "text": [
            "[[0]\n",
            " [1]\n",
            " [2]\n",
            " [3]\n",
            " [4]]\n"
          ]
        }
      ]
    },
    {
      "cell_type": "code",
      "source": [
        "result = arr[:, np.newaxis]\n",
        "print(result)"
      ],
      "metadata": {
        "colab": {
          "base_uri": "https://localhost:8080/"
        },
        "id": "kZD5WLa9w4gm",
        "outputId": "8ddf2daf-c994-450c-88bb-55787afd584b"
      },
      "execution_count": 48,
      "outputs": [
        {
          "output_type": "stream",
          "name": "stdout",
          "text": [
            "[[0]\n",
            " [1]\n",
            " [2]\n",
            " [3]\n",
            " [4]]\n"
          ]
        }
      ]
    },
    {
      "cell_type": "markdown",
      "source": [
        "# 배열 합치기(concatenate)"
      ],
      "metadata": {
        "id": "iDJNpVZmxV5u"
      }
    },
    {
      "cell_type": "markdown",
      "source": [
        "## `np.concatenate([array1, array2, ...], axis=0)`\n",
        "\n",
        "특정 축(axis) 방향으로 이어 붙이기."
      ],
      "metadata": {
        "id": "-8JziYHcxbwe"
      }
    },
    {
      "cell_type": "code",
      "source": [
        "arr1 = np.arange(6).reshape((2, 3))\n",
        "print(arr1)"
      ],
      "metadata": {
        "colab": {
          "base_uri": "https://localhost:8080/"
        },
        "id": "ntK-qqBjxHb2",
        "outputId": "f773678a-a998-4d89-b589-a074c3bf84f7"
      },
      "execution_count": 49,
      "outputs": [
        {
          "output_type": "stream",
          "name": "stdout",
          "text": [
            "[[0 1 2]\n",
            " [3 4 5]]\n"
          ]
        }
      ]
    },
    {
      "cell_type": "code",
      "source": [
        "arr2 = np.array([[10, 20, 30]])  # (1, 3)\n",
        "print(arr2)"
      ],
      "metadata": {
        "colab": {
          "base_uri": "https://localhost:8080/"
        },
        "id": "6jF9Up0Ax4s2",
        "outputId": "719ff748-63f5-451e-822c-a5196274cd95"
      },
      "execution_count": 50,
      "outputs": [
        {
          "output_type": "stream",
          "name": "stdout",
          "text": [
            "[[10 20 30]]\n"
          ]
        }
      ]
    },
    {
      "cell_type": "code",
      "source": [
        "result = np.concatenate([arr1, arr2])  # axis 기본값 0.\n",
        "print(result)"
      ],
      "metadata": {
        "colab": {
          "base_uri": "https://localhost:8080/"
        },
        "id": "p3Q0pOXjyHa-",
        "outputId": "15f7b97c-542c-45c8-9121-bfb703d0b663"
      },
      "execution_count": 51,
      "outputs": [
        {
          "output_type": "stream",
          "name": "stdout",
          "text": [
            "[[ 0  1  2]\n",
            " [ 3  4  5]\n",
            " [10 20 30]]\n"
          ]
        }
      ]
    },
    {
      "cell_type": "code",
      "source": [
        "arr3 = np.array([[100], [200]])  # (1, 2) shape의 2차원 배열\n",
        "print(arr3)"
      ],
      "metadata": {
        "colab": {
          "base_uri": "https://localhost:8080/"
        },
        "id": "-qoeKffNyhwm",
        "outputId": "ed85e4db-cf9c-451c-9f34-8d767fb49104"
      },
      "execution_count": 52,
      "outputs": [
        {
          "output_type": "stream",
          "name": "stdout",
          "text": [
            "[[100]\n",
            " [200]]\n"
          ]
        }
      ]
    },
    {
      "cell_type": "code",
      "source": [
        "result = np.concatenate([arr1, arr3], axis=1)\n",
        "print(result)"
      ],
      "metadata": {
        "colab": {
          "base_uri": "https://localhost:8080/"
        },
        "id": "pWlo0TkBysC3",
        "outputId": "c66e7240-9d32-434f-9d1e-1fefc733eeff"
      },
      "execution_count": 53,
      "outputs": [
        {
          "output_type": "stream",
          "name": "stdout",
          "text": [
            "[[  0   1   2 100]\n",
            " [  3   4   5 200]]\n"
          ]
        }
      ]
    },
    {
      "cell_type": "markdown",
      "source": [
        "## `np.r_[array1, array2]`, `np.c_[array1, array2]`\n",
        "\n",
        "*  `np.r_`: 행(row) 이어붙이기. concatenate(axis=0)\n",
        "*  `np.c_`: 열(column) 이어붙이기. concatenate(axis=1)\n"
      ],
      "metadata": {
        "id": "iwbLSiLPzI3n"
      }
    },
    {
      "cell_type": "code",
      "source": [
        "np.r_[arr1, arr2]"
      ],
      "metadata": {
        "colab": {
          "base_uri": "https://localhost:8080/"
        },
        "id": "W1gCYQSizmz_",
        "outputId": "39c09d68-cc79-412f-9ae3-60f7d7c6d91f"
      },
      "execution_count": 54,
      "outputs": [
        {
          "output_type": "execute_result",
          "data": {
            "text/plain": [
              "array([[ 0,  1,  2],\n",
              "       [ 3,  4,  5],\n",
              "       [10, 20, 30]])"
            ]
          },
          "metadata": {},
          "execution_count": 54
        }
      ]
    },
    {
      "cell_type": "code",
      "source": [
        "np.c_[arr1, arr3]"
      ],
      "metadata": {
        "colab": {
          "base_uri": "https://localhost:8080/"
        },
        "id": "17MdWKopzttO",
        "outputId": "79e7dbb4-d3d7-4ad6-be71-ca649d1b6c93"
      },
      "execution_count": 55,
      "outputs": [
        {
          "output_type": "execute_result",
          "data": {
            "text/plain": [
              "array([[  0,   1,   2, 100],\n",
              "       [  3,   4,   5, 200]])"
            ]
          },
          "metadata": {},
          "execution_count": 55
        }
      ]
    },
    {
      "cell_type": "code",
      "source": [],
      "metadata": {
        "id": "94fa2KbRzxPW"
      },
      "execution_count": null,
      "outputs": []
    }
  ]
}