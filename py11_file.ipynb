{
  "nbformat": 4,
  "nbformat_minor": 0,
  "metadata": {
    "colab": {
      "provenance": [],
      "authorship_tag": "ABX9TyNMJuqAsGYn5xlDyqGrwyY5",
      "include_colab_link": true
    },
    "kernelspec": {
      "name": "python3",
      "display_name": "Python 3"
    },
    "language_info": {
      "name": "python"
    }
  },
  "cells": [
    {
      "cell_type": "markdown",
      "metadata": {
        "id": "view-in-github",
        "colab_type": "text"
      },
      "source": [
        "<a href=\"https://colab.research.google.com/github/JakeOh/20230228_itwill_java140_lab_python/blob/main/py11_file.ipynb\" target=\"_parent\"><img src=\"https://colab.research.google.com/assets/colab-badge.svg\" alt=\"Open In Colab\"/></a>"
      ]
    },
    {
      "cell_type": "markdown",
      "source": [
        "# 파일 쓰기(write)"
      ],
      "metadata": {
        "id": "40dPHt6JRyjR"
      }
    },
    {
      "cell_type": "markdown",
      "source": [
        "파일 쓰기 순서:\n",
        "1.  파일 열기(open)\n",
        "1.  파일 내용 쓰기(write)\n",
        "1.  파일 닫기(close)\n",
        "\n",
        "`open(file, mode='rt', ...)`:\n",
        "*  file: 폴더(디렉토리)를 포함한 파일 이름.\n",
        "*  mode: 파일을 여는 방법(모드).\n",
        "    *  r(read): 읽기. 기본값.\n",
        "    *  w(write): 쓰기.\n",
        "        *  파일이 있으면 기존 내용이 모두 삭제되고 파일의 처음부터 다시 쓰기 시작.\n",
        "        *  파일이 없으면 새로운 파일을 생성하고 파일 쓰기가 됨.\n",
        "    *  a(append): 이어쓰기. 기존 작성된 내용 이후부터 이어서 쓰기.\n",
        "    *  t(text): 텍스트 (읽기/쓰기). 인코딩된 문자열. 기본값.\n",
        "    *  b(binary): 이진 데이터 (읽기/쓰기). (예) 이미지, 동영상, ..."
      ],
      "metadata": {
        "id": "d-NWjdjJR3IA"
      }
    },
    {
      "cell_type": "code",
      "execution_count": 3,
      "metadata": {
        "id": "quz8BW-IRbHM"
      },
      "outputs": [],
      "source": [
        "# 1. 파일을 텍스트 쓰기 모드로 open:\n",
        "f = open('test1.txt', mode='wt')\n",
        "\n",
        "# 2. 파일 쓰기:\n",
        "f.write('안녕하세요...\\n')\n",
        "f.write('Hello, python!\\n')\n",
        "f.write('1234567890\\n')\n",
        "\n",
        "# 3. 파일 닫기:\n",
        "f.close()"
      ]
    },
    {
      "cell_type": "code",
      "source": [
        "# with ~ as 구문: 오픈된 리소스(파일)에서 close() 메서드를 자동으로 호출.\n",
        "with open('test2.txt', 'wt') as f:\n",
        "    f.write('hello\\n')\n",
        "    f.write('즐거운 월요일\\n')"
      ],
      "metadata": {
        "id": "aTcKWiPbXO1f"
      },
      "execution_count": 4,
      "outputs": []
    }
  ]
}