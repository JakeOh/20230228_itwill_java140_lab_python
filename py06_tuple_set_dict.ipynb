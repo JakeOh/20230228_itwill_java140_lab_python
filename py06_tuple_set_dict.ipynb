{
  "nbformat": 4,
  "nbformat_minor": 0,
  "metadata": {
    "colab": {
      "provenance": [],
      "authorship_tag": "ABX9TyNzAeGwiGtW5gHWVU5E0eo1",
      "include_colab_link": true
    },
    "kernelspec": {
      "name": "python3",
      "display_name": "Python 3"
    },
    "language_info": {
      "name": "python"
    }
  },
  "cells": [
    {
      "cell_type": "markdown",
      "metadata": {
        "id": "view-in-github",
        "colab_type": "text"
      },
      "source": [
        "<a href=\"https://colab.research.google.com/github/JakeOh/20230228_itwill_java140_lab_python/blob/main/py06_tuple_set_dict.ipynb\" target=\"_parent\"><img src=\"https://colab.research.google.com/assets/colab-badge.svg\" alt=\"Open In Colab\"/></a>"
      ]
    },
    {
      "cell_type": "markdown",
      "source": [
        "# tuple(튜플)\n",
        "\n",
        "*  하나의 변수에 여러 개의 값들을 저장하기 위한 자료 타입.\n",
        "*  저장된 원소(아이템)들을 변경할 수 없는 리스트.\n",
        "    *  `append()`, `remove()`와 같은 원소를 변경하는 메서드(기능)은 제공하지 않음.\n",
        "*  인덱스 기반 자료 타입.\n",
        "    *  indexing, slicing\n",
        "    *  음수 인덱스도 사용 가능"
      ],
      "metadata": {
        "id": "vZN6lt_LWr5m"
      }
    },
    {
      "cell_type": "code",
      "execution_count": 1,
      "metadata": {
        "colab": {
          "base_uri": "https://localhost:8080/"
        },
        "id": "uyrNwmXeWahq",
        "outputId": "fcd91b5d-6dcd-42e5-bf7b-b7d1b853c2f1"
      },
      "outputs": [
        {
          "output_type": "execute_result",
          "data": {
            "text/plain": [
              "(1, 2, 10, 20, 100, 200)"
            ]
          },
          "metadata": {},
          "execution_count": 1
        }
      ],
      "source": [
        "# 숫자들을 저장하는 튜플\n",
        "numbers = (1, 2, 10, 20, 100, 200)\n",
        "numbers"
      ]
    },
    {
      "cell_type": "code",
      "source": [
        "type(numbers)"
      ],
      "metadata": {
        "colab": {
          "base_uri": "https://localhost:8080/"
        },
        "id": "Lqdvkc1JX8vv",
        "outputId": "2fe89520-c27a-48c8-b8f6-315d19cb3c9b"
      },
      "execution_count": 2,
      "outputs": [
        {
          "output_type": "execute_result",
          "data": {
            "text/plain": [
              "tuple"
            ]
          },
          "metadata": {},
          "execution_count": 2
        }
      ]
    },
    {
      "cell_type": "markdown",
      "source": [
        "indexing: 인덱스를 사용해서 원소 1개를 참조하는 방법"
      ],
      "metadata": {
        "id": "tkiGeqBGYsZO"
      }
    },
    {
      "cell_type": "code",
      "source": [
        "numbers[0]  # 튜플의 첫번째 원소"
      ],
      "metadata": {
        "colab": {
          "base_uri": "https://localhost:8080/"
        },
        "id": "0GIsTs8iYO_2",
        "outputId": "bff94c38-c5db-4979-9c9f-994efc5d6fa9"
      },
      "execution_count": 3,
      "outputs": [
        {
          "output_type": "execute_result",
          "data": {
            "text/plain": [
              "1"
            ]
          },
          "metadata": {},
          "execution_count": 3
        }
      ]
    },
    {
      "cell_type": "code",
      "source": [
        "numbers[-1]  # 튜플의 마지막 원소"
      ],
      "metadata": {
        "colab": {
          "base_uri": "https://localhost:8080/"
        },
        "id": "s0BjbvKLZAlC",
        "outputId": "fce5cde5-b996-410e-e0f0-1e2ced6dd896"
      },
      "execution_count": 4,
      "outputs": [
        {
          "output_type": "execute_result",
          "data": {
            "text/plain": [
              "200"
            ]
          },
          "metadata": {},
          "execution_count": 4
        }
      ]
    },
    {
      "cell_type": "markdown",
      "source": [
        "slicing: 자르기. 부분집합."
      ],
      "metadata": {
        "id": "NkrjYpziZL5m"
      }
    },
    {
      "cell_type": "code",
      "source": [
        "numbers[:3]  # 튜플에서 첫 3개의 원소들을 잘라내기. [start, end) 범위."
      ],
      "metadata": {
        "colab": {
          "base_uri": "https://localhost:8080/"
        },
        "id": "8dVAI2ZSZJXO",
        "outputId": "c6b8e9c2-11f0-4ae7-84e5-245ee022c604"
      },
      "execution_count": 5,
      "outputs": [
        {
          "output_type": "execute_result",
          "data": {
            "text/plain": [
              "(1, 2, 10)"
            ]
          },
          "metadata": {},
          "execution_count": 5
        }
      ]
    },
    {
      "cell_type": "code",
      "source": [
        "numbers[-3:]  # 튜플에서 마지막 3개의 원소들을 잘라내기."
      ],
      "metadata": {
        "colab": {
          "base_uri": "https://localhost:8080/"
        },
        "id": "TUAsqovtZd7m",
        "outputId": "30aef44c-66c7-4a7a-c9fd-b820e6343e02"
      },
      "execution_count": 6,
      "outputs": [
        {
          "output_type": "execute_result",
          "data": {
            "text/plain": [
              "(20, 100, 200)"
            ]
          },
          "metadata": {},
          "execution_count": 6
        }
      ]
    },
    {
      "cell_type": "markdown",
      "source": [
        "## decomposition(분해)"
      ],
      "metadata": {
        "id": "OZPD-9FjZ3Xn"
      }
    },
    {
      "cell_type": "code",
      "source": [
        "odds = (1, 3, 5)\n",
        "a = odds[0]\n",
        "b = odds[1]\n",
        "c = odds[2]\n",
        "print(a, b, c)"
      ],
      "metadata": {
        "colab": {
          "base_uri": "https://localhost:8080/"
        },
        "id": "VGOdx75NZwLG",
        "outputId": "baf99d24-310e-4a30-8188-e927ea41d2f7"
      },
      "execution_count": 7,
      "outputs": [
        {
          "output_type": "stream",
          "name": "stdout",
          "text": [
            "1 3 5\n"
          ]
        }
      ]
    },
    {
      "cell_type": "code",
      "source": [
        "x, y, z = (1, 3, 5)\n",
        "print(x, y, z)"
      ],
      "metadata": {
        "colab": {
          "base_uri": "https://localhost:8080/"
        },
        "id": "zYdAX1WwaVHm",
        "outputId": "bbd1fcf0-73f5-4714-a92d-4f86d7c313b8"
      },
      "execution_count": 8,
      "outputs": [
        {
          "output_type": "stream",
          "name": "stdout",
          "text": [
            "1 3 5\n"
          ]
        }
      ]
    },
    {
      "cell_type": "markdown",
      "source": [
        "## tuple & for"
      ],
      "metadata": {
        "id": "E4vwG-BkbJuP"
      }
    },
    {
      "cell_type": "code",
      "source": [
        "for x in odds:\n",
        "    print(x)"
      ],
      "metadata": {
        "colab": {
          "base_uri": "https://localhost:8080/"
        },
        "id": "b_U0UcGLbMwn",
        "outputId": "ca1f13bf-d703-4b4b-de8a-c1821000bef6"
      },
      "execution_count": 9,
      "outputs": [
        {
          "output_type": "stream",
          "name": "stdout",
          "text": [
            "1\n",
            "3\n",
            "5\n"
          ]
        }
      ]
    },
    {
      "cell_type": "markdown",
      "source": [
        "# 2차원 리스트/튜플"
      ],
      "metadata": {
        "id": "yNK0QRG2b-Nf"
      }
    },
    {
      "cell_type": "code",
      "source": [
        "numbers = [\n",
        "    [1, 2, 3],\n",
        "    [4, 5, 6]\n",
        "]\n",
        "numbers"
      ],
      "metadata": {
        "colab": {
          "base_uri": "https://localhost:8080/"
        },
        "id": "_gx0_spBbUeW",
        "outputId": "c0f9e737-b21a-47fa-cac5-0f0247eecc2c"
      },
      "execution_count": 10,
      "outputs": [
        {
          "output_type": "execute_result",
          "data": {
            "text/plain": [
              "[[1, 2, 3], [4, 5, 6]]"
            ]
          },
          "metadata": {},
          "execution_count": 10
        }
      ]
    },
    {
      "cell_type": "code",
      "source": [
        "len(numbers)  # 2차원 리스트 numbers의 원소 개수"
      ],
      "metadata": {
        "colab": {
          "base_uri": "https://localhost:8080/"
        },
        "id": "7rherNFRc_mQ",
        "outputId": "2cce286e-637d-4abb-ed70-a46aab241340"
      },
      "execution_count": 11,
      "outputs": [
        {
          "output_type": "execute_result",
          "data": {
            "text/plain": [
              "2"
            ]
          },
          "metadata": {},
          "execution_count": 11
        }
      ]
    },
    {
      "cell_type": "code",
      "source": [
        "numbers[0]"
      ],
      "metadata": {
        "colab": {
          "base_uri": "https://localhost:8080/"
        },
        "id": "H-s5Gf7HdTjX",
        "outputId": "b326230a-8714-458f-e011-b7a22e1418de"
      },
      "execution_count": 12,
      "outputs": [
        {
          "output_type": "execute_result",
          "data": {
            "text/plain": [
              "[1, 2, 3]"
            ]
          },
          "metadata": {},
          "execution_count": 12
        }
      ]
    },
    {
      "cell_type": "code",
      "source": [
        "numbers[0][0]"
      ],
      "metadata": {
        "colab": {
          "base_uri": "https://localhost:8080/"
        },
        "id": "uCrsFfo7dkyJ",
        "outputId": "662f0397-a621-48ac-f2eb-67cc5e24568c"
      },
      "execution_count": 13,
      "outputs": [
        {
          "output_type": "execute_result",
          "data": {
            "text/plain": [
              "1"
            ]
          },
          "metadata": {},
          "execution_count": 13
        }
      ]
    },
    {
      "cell_type": "markdown",
      "source": [
        "Ex.\n",
        "1. 2x2 모양의 [0, 10) 범위의 정수 난수들을 저장하는 2차원 리스트 array1을 만드고 출력하세요.\n",
        "1. 2x2 모양의 [0, 10) 범위의 정수 난수들을 저장하는 2차원 리스트 array2을 만드고 출력하세요.\n",
        "1. array1과 array2의 같은 인덱스의 원소들끼리의 덧셈 결과를 저장하는 2차원 리스트 add를 만들고 출력하세요."
      ],
      "metadata": {
        "id": "wDCXRg07d1ET"
      }
    },
    {
      "cell_type": "code",
      "source": [
        "import random"
      ],
      "metadata": {
        "id": "fF5odw0Xegko"
      },
      "execution_count": 14,
      "outputs": []
    },
    {
      "cell_type": "code",
      "source": [
        "array1 = []  # 1차원 리스트들을 저장할 빈 리스트.\n",
        "for _ in range(2):  # 2번 반복.\n",
        "    row = []  # 난수들을 저장할 빈 리스트.\n",
        "    for _ in range(2):  # 2번 반복.\n",
        "        row.append(random.randrange(10))  # 난수를 row에 추가.\n",
        "    array1.append(row)  # 난수 2개를 갖는 1차원 리스트를 array1에 추가.\n",
        "\n",
        "array1"
      ],
      "metadata": {
        "colab": {
          "base_uri": "https://localhost:8080/"
        },
        "id": "R9askRxWfAzT",
        "outputId": "a4eefce9-0bd3-488a-a855-68250d286370"
      },
      "execution_count": 15,
      "outputs": [
        {
          "output_type": "execute_result",
          "data": {
            "text/plain": [
              "[[5, 1], [1, 8]]"
            ]
          },
          "metadata": {},
          "execution_count": 15
        }
      ]
    },
    {
      "cell_type": "code",
      "source": [
        "array2 = [[random.randrange(10) for _ in range(2)]\n",
        "          for _ in range(2)]\n",
        "array2"
      ],
      "metadata": {
        "colab": {
          "base_uri": "https://localhost:8080/"
        },
        "id": "3DMFX5folwPj",
        "outputId": "2b1fb696-2432-4993-c7f9-d0a836fda1ae"
      },
      "execution_count": 17,
      "outputs": [
        {
          "output_type": "execute_result",
          "data": {
            "text/plain": [
              "[[1, 0], [6, 9]]"
            ]
          },
          "metadata": {},
          "execution_count": 17
        }
      ]
    },
    {
      "cell_type": "code",
      "source": [
        "add = []  # 1차원 배열들을 저장할 빈 배열\n",
        "for row1, row2 in zip(array1, array2):\n",
        "    # print(row1, row2)\n",
        "    temp = []  # 덧셈 결과를 저장할 빈 배열\n",
        "    for x, y in zip(row1, row2):\n",
        "        temp.append(x + y)\n",
        "    add.append(temp)\n",
        "\n",
        "add"
      ],
      "metadata": {
        "colab": {
          "base_uri": "https://localhost:8080/"
        },
        "id": "YOA_FwZrnXx6",
        "outputId": "f1227125-64a6-4864-9980-3683feeb3ec2"
      },
      "execution_count": 19,
      "outputs": [
        {
          "output_type": "execute_result",
          "data": {
            "text/plain": [
              "[[6, 1], [7, 17]]"
            ]
          },
          "metadata": {},
          "execution_count": 19
        }
      ]
    },
    {
      "cell_type": "code",
      "source": [
        "[[x + y for x, y in zip(row1, row2)]\n",
        " for row1, row2 in zip(array1, array2)]"
      ],
      "metadata": {
        "colab": {
          "base_uri": "https://localhost:8080/"
        },
        "id": "JFPBrr9OoR3c",
        "outputId": "7bdefd42-86d7-4bc7-b8bd-068929147f40"
      },
      "execution_count": 20,
      "outputs": [
        {
          "output_type": "execute_result",
          "data": {
            "text/plain": [
              "[[6, 1], [7, 17]]"
            ]
          },
          "metadata": {},
          "execution_count": 20
        }
      ]
    },
    {
      "cell_type": "markdown",
      "source": [
        "# Set(집합)\n",
        "\n",
        "*  중복된 데이터를 허용하지 않음: `{1, 2, 2, 3, 3} = {1, 2, 3}`\n",
        "*  인덱스 기반의 자료 구조가 아님. 인덱스가 없음.\n",
        "    *  데이터의 저장 순서가 중요하지 않음: `{1, 2, 3} = {3, 1, 2}`\n",
        "    *  indexing, slicing 기능을 제공하지 않음.\n",
        "    *  for-in 구문에서 사용할 수 있는 iterable 타입.\n"
      ],
      "metadata": {
        "id": "5ThQ1Wx4qLPc"
      }
    },
    {
      "cell_type": "code",
      "source": [
        "s = {1, 2, 2, 3, 3}\n",
        "s"
      ],
      "metadata": {
        "colab": {
          "base_uri": "https://localhost:8080/"
        },
        "id": "F1EiM-TOrP_U",
        "outputId": "63ec87da-5268-445e-9abf-9ee183f7ef80"
      },
      "execution_count": 21,
      "outputs": [
        {
          "output_type": "execute_result",
          "data": {
            "text/plain": [
              "{1, 2, 3}"
            ]
          },
          "metadata": {},
          "execution_count": 21
        }
      ]
    },
    {
      "cell_type": "code",
      "source": [
        "type(s)"
      ],
      "metadata": {
        "colab": {
          "base_uri": "https://localhost:8080/"
        },
        "id": "Br-ulMPTrVIV",
        "outputId": "8226739a-326c-4312-ceb7-b6694d739231"
      },
      "execution_count": 22,
      "outputs": [
        {
          "output_type": "execute_result",
          "data": {
            "text/plain": [
              "set"
            ]
          },
          "metadata": {},
          "execution_count": 22
        }
      ]
    },
    {
      "cell_type": "markdown",
      "source": [
        "## set의 기능(메서드)"
      ],
      "metadata": {
        "id": "K2fcHzVurr8c"
      }
    },
    {
      "cell_type": "code",
      "source": [
        "s"
      ],
      "metadata": {
        "colab": {
          "base_uri": "https://localhost:8080/"
        },
        "id": "d6C4KbgPrmsd",
        "outputId": "60fed943-7642-4785-82e0-6f21cace531b"
      },
      "execution_count": 23,
      "outputs": [
        {
          "output_type": "execute_result",
          "data": {
            "text/plain": [
              "{1, 2, 3}"
            ]
          },
          "metadata": {},
          "execution_count": 23
        }
      ]
    },
    {
      "cell_type": "code",
      "source": [
        "s.add(5)  # set에 원소 추가\n",
        "s"
      ],
      "metadata": {
        "colab": {
          "base_uri": "https://localhost:8080/"
        },
        "id": "lAGAVD-QrzIc",
        "outputId": "8ef5f105-50e0-486d-de04-15276b066cfd"
      },
      "execution_count": 24,
      "outputs": [
        {
          "output_type": "execute_result",
          "data": {
            "text/plain": [
              "{1, 2, 3, 5}"
            ]
          },
          "metadata": {},
          "execution_count": 24
        }
      ]
    },
    {
      "cell_type": "code",
      "source": [
        "s.add(5)\n",
        "s"
      ],
      "metadata": {
        "colab": {
          "base_uri": "https://localhost:8080/"
        },
        "id": "QItPGSYKsKF0",
        "outputId": "f6e2bad3-9d6a-4cb5-9051-31159519d647"
      },
      "execution_count": 25,
      "outputs": [
        {
          "output_type": "execute_result",
          "data": {
            "text/plain": [
              "{1, 2, 3, 5}"
            ]
          },
          "metadata": {},
          "execution_count": 25
        }
      ]
    },
    {
      "cell_type": "code",
      "source": [
        "s.remove(3)  # set의 원소를 삭제. 삭제할 원소를 아규먼트로 전달.\n",
        "s"
      ],
      "metadata": {
        "colab": {
          "base_uri": "https://localhost:8080/"
        },
        "id": "VGPN_YGRsOic",
        "outputId": "fa31cbfd-23d3-4f7e-d70c-7e8d5afba195"
      },
      "execution_count": 26,
      "outputs": [
        {
          "output_type": "execute_result",
          "data": {
            "text/plain": [
              "{1, 2, 5}"
            ]
          },
          "metadata": {},
          "execution_count": 26
        }
      ]
    },
    {
      "cell_type": "code",
      "source": [
        "s.pop()\n",
        "s"
      ],
      "metadata": {
        "colab": {
          "base_uri": "https://localhost:8080/"
        },
        "id": "mtcLlW8Msgjk",
        "outputId": "8b278b12-36f2-4a6b-a407-4c43aec6f85a"
      },
      "execution_count": 27,
      "outputs": [
        {
          "output_type": "execute_result",
          "data": {
            "text/plain": [
              "{2, 5}"
            ]
          },
          "metadata": {},
          "execution_count": 27
        }
      ]
    },
    {
      "cell_type": "code",
      "source": [
        "s1 = {1, 2, 3, 4}\n",
        "s2 = {2, 3, 5, 6}"
      ],
      "metadata": {
        "id": "RuR2bDWRtVlt"
      },
      "execution_count": 28,
      "outputs": []
    },
    {
      "cell_type": "code",
      "source": [
        "s1.union(s2)  # 합집합"
      ],
      "metadata": {
        "colab": {
          "base_uri": "https://localhost:8080/"
        },
        "id": "as_B4spFtbYX",
        "outputId": "11bd9156-f8bb-4358-8529-7c2ea566c841"
      },
      "execution_count": 29,
      "outputs": [
        {
          "output_type": "execute_result",
          "data": {
            "text/plain": [
              "{1, 2, 3, 4, 5, 6}"
            ]
          },
          "metadata": {},
          "execution_count": 29
        }
      ]
    },
    {
      "cell_type": "code",
      "source": [
        "s1.intersection(s2)  # 교집합"
      ],
      "metadata": {
        "colab": {
          "base_uri": "https://localhost:8080/"
        },
        "id": "Dcu2y4hwtfAM",
        "outputId": "b747e964-9d68-4eed-f015-81ab9b56fbcc"
      },
      "execution_count": 30,
      "outputs": [
        {
          "output_type": "execute_result",
          "data": {
            "text/plain": [
              "{2, 3}"
            ]
          },
          "metadata": {},
          "execution_count": 30
        }
      ]
    },
    {
      "cell_type": "code",
      "source": [
        "s1.difference(s2)  # 차집합: s1 - s2"
      ],
      "metadata": {
        "colab": {
          "base_uri": "https://localhost:8080/"
        },
        "id": "obx-qUsVtk7Y",
        "outputId": "c5c13d34-1963-4589-ced0-0836e1190f0d"
      },
      "execution_count": 32,
      "outputs": [
        {
          "output_type": "execute_result",
          "data": {
            "text/plain": [
              "{1, 4}"
            ]
          },
          "metadata": {},
          "execution_count": 32
        }
      ]
    },
    {
      "cell_type": "code",
      "source": [
        "s2.difference(s1)  # 차집합: s2 - s1"
      ],
      "metadata": {
        "colab": {
          "base_uri": "https://localhost:8080/"
        },
        "id": "1H7ZCMS1tvGx",
        "outputId": "df20af86-ec36-477f-f26c-f6d19d8f8a29"
      },
      "execution_count": 33,
      "outputs": [
        {
          "output_type": "execute_result",
          "data": {
            "text/plain": [
              "{5, 6}"
            ]
          },
          "metadata": {},
          "execution_count": 33
        }
      ]
    },
    {
      "cell_type": "markdown",
      "source": [
        "# dict"
      ],
      "metadata": {
        "id": "qJ_hJMCPuDS1"
      }
    }
  ]
}