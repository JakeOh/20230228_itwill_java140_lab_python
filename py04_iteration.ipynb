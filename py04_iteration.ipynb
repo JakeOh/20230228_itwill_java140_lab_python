{
  "nbformat": 4,
  "nbformat_minor": 0,
  "metadata": {
    "colab": {
      "provenance": [],
      "authorship_tag": "ABX9TyMjLe3PrIyPBmQoGuKN7hcU",
      "include_colab_link": true
    },
    "kernelspec": {
      "name": "python3",
      "display_name": "Python 3"
    },
    "language_info": {
      "name": "python"
    }
  },
  "cells": [
    {
      "cell_type": "markdown",
      "metadata": {
        "id": "view-in-github",
        "colab_type": "text"
      },
      "source": [
        "<a href=\"https://colab.research.google.com/github/JakeOh/20230228_itwill_java140_lab_python/blob/main/py04_iteration.ipynb\" target=\"_parent\"><img src=\"https://colab.research.google.com/assets/colab-badge.svg\" alt=\"Open In Colab\"/></a>"
      ]
    },
    {
      "cell_type": "markdown",
      "source": [
        "# for 반복문\n",
        "\n",
        "```\n",
        "for 변수 in iterable_type:\n",
        "    반복해서 실행할 코드 블록\n",
        "```\n",
        "\n",
        "*  iterable_type: 반복가능한 타입\n",
        "    *  range, list, tuple, dict, set, str, ...\n",
        "*  `range()` 함수:\n",
        "    *  `range(stop)`: 0 <= x < stop 범위의 1씩 증가하는 정수들을 차례로 반환.\n",
        "    *  `range(start, stop)`: start <= x < stop 범위의 1씩 증가하는 정수들을 차례로 반환.\n",
        "    *  `range(start, stop, step)`:\n",
        "        *  step > 0: start <= x < stop 범위의 step 만큼씩 증가하는 정수들을 차례로 반환.\n",
        "        *  step < 0: start >= x > stop 범위의 step 만큼씩 감소하는 정수들을 차례로 반환.\n"
      ],
      "metadata": {
        "id": "QQK-oC2wL1oO"
      }
    },
    {
      "cell_type": "code",
      "execution_count": 1,
      "metadata": {
        "colab": {
          "base_uri": "https://localhost:8080/"
        },
        "id": "x81PMp0oLkY0",
        "outputId": "f47c6a41-5429-40fb-aead-012d42bf4dcc"
      },
      "outputs": [
        {
          "output_type": "stream",
          "name": "stdout",
          "text": [
            "0\n",
            "1\n",
            "2\n",
            "3\n",
            "4\n"
          ]
        }
      ],
      "source": [
        "for x in range(5):  # 0 <= x < 5\n",
        "    print(x)"
      ]
    },
    {
      "cell_type": "code",
      "source": [
        "for x in range(1, 6):  # 1 <= x < 6\n",
        "    print(x)"
      ],
      "metadata": {
        "colab": {
          "base_uri": "https://localhost:8080/"
        },
        "id": "DpbXrPQKOrzw",
        "outputId": "3e44ec43-88e5-4cea-f764-9d40bc244d72"
      },
      "execution_count": 2,
      "outputs": [
        {
          "output_type": "stream",
          "name": "stdout",
          "text": [
            "1\n",
            "2\n",
            "3\n",
            "4\n",
            "5\n"
          ]
        }
      ]
    },
    {
      "cell_type": "code",
      "source": [
        "for x in range(0, 11, 2):  # (0, 2, 4, 6, 8, 10)\n",
        "    print(x)"
      ],
      "metadata": {
        "colab": {
          "base_uri": "https://localhost:8080/"
        },
        "id": "3TsoWt93PLCd",
        "outputId": "2a023cf3-7e69-4d2b-aeee-dd35b446d00d"
      },
      "execution_count": 3,
      "outputs": [
        {
          "output_type": "stream",
          "name": "stdout",
          "text": [
            "0\n",
            "2\n",
            "4\n",
            "6\n",
            "8\n",
            "10\n"
          ]
        }
      ]
    },
    {
      "cell_type": "code",
      "source": [
        "for x in range(10, 0, -2):  # (10, 8, 6, 4, 2)\n",
        "    print(x)"
      ],
      "metadata": {
        "colab": {
          "base_uri": "https://localhost:8080/"
        },
        "id": "-jKZHIPLPgKG",
        "outputId": "d2ce8f8b-0673-47d5-897d-38e8a2a25f1a"
      },
      "execution_count": 4,
      "outputs": [
        {
          "output_type": "stream",
          "name": "stdout",
          "text": [
            "10\n",
            "8\n",
            "6\n",
            "4\n",
            "2\n"
          ]
        }
      ]
    },
    {
      "cell_type": "markdown",
      "source": [
        "# 중첩 반복문\n",
        "\n",
        "```\n",
        "for x in iterable1:\n",
        "    for y in iterable2:\n",
        "        코드 블록\n",
        "```\n"
      ],
      "metadata": {
        "id": "IMw1u8-7QKrt"
      }
    },
    {
      "cell_type": "markdown",
      "source": [
        "구구단 2단부터 9단까지 출력."
      ],
      "metadata": {
        "id": "4mEu4ruJQbj9"
      }
    },
    {
      "cell_type": "code",
      "source": [
        "for x in range(2, 10):  # (2, 3, 4, ..., 9)\n",
        "    for y in range(1, 10):  # (1, 2, 3, ..., 9)\n",
        "        print(f'{x} x {y} = {x * y}')\n",
        "    print('-' * 10)"
      ],
      "metadata": {
        "colab": {
          "base_uri": "https://localhost:8080/"
        },
        "id": "aKhej6ajPzXl",
        "outputId": "12debeab-c7a3-4177-886e-eaa7521c26db"
      },
      "execution_count": 7,
      "outputs": [
        {
          "output_type": "stream",
          "name": "stdout",
          "text": [
            "2 x 1 = 2\n",
            "2 x 2 = 4\n",
            "2 x 3 = 6\n",
            "2 x 4 = 8\n",
            "2 x 5 = 10\n",
            "2 x 6 = 12\n",
            "2 x 7 = 14\n",
            "2 x 8 = 16\n",
            "2 x 9 = 18\n",
            "----------\n",
            "3 x 1 = 3\n",
            "3 x 2 = 6\n",
            "3 x 3 = 9\n",
            "3 x 4 = 12\n",
            "3 x 5 = 15\n",
            "3 x 6 = 18\n",
            "3 x 7 = 21\n",
            "3 x 8 = 24\n",
            "3 x 9 = 27\n",
            "----------\n",
            "4 x 1 = 4\n",
            "4 x 2 = 8\n",
            "4 x 3 = 12\n",
            "4 x 4 = 16\n",
            "4 x 5 = 20\n",
            "4 x 6 = 24\n",
            "4 x 7 = 28\n",
            "4 x 8 = 32\n",
            "4 x 9 = 36\n",
            "----------\n",
            "5 x 1 = 5\n",
            "5 x 2 = 10\n",
            "5 x 3 = 15\n",
            "5 x 4 = 20\n",
            "5 x 5 = 25\n",
            "5 x 6 = 30\n",
            "5 x 7 = 35\n",
            "5 x 8 = 40\n",
            "5 x 9 = 45\n",
            "----------\n",
            "6 x 1 = 6\n",
            "6 x 2 = 12\n",
            "6 x 3 = 18\n",
            "6 x 4 = 24\n",
            "6 x 5 = 30\n",
            "6 x 6 = 36\n",
            "6 x 7 = 42\n",
            "6 x 8 = 48\n",
            "6 x 9 = 54\n",
            "----------\n",
            "7 x 1 = 7\n",
            "7 x 2 = 14\n",
            "7 x 3 = 21\n",
            "7 x 4 = 28\n",
            "7 x 5 = 35\n",
            "7 x 6 = 42\n",
            "7 x 7 = 49\n",
            "7 x 8 = 56\n",
            "7 x 9 = 63\n",
            "----------\n",
            "8 x 1 = 8\n",
            "8 x 2 = 16\n",
            "8 x 3 = 24\n",
            "8 x 4 = 32\n",
            "8 x 5 = 40\n",
            "8 x 6 = 48\n",
            "8 x 7 = 56\n",
            "8 x 8 = 64\n",
            "8 x 9 = 72\n",
            "----------\n",
            "9 x 1 = 9\n",
            "9 x 2 = 18\n",
            "9 x 3 = 27\n",
            "9 x 4 = 36\n",
            "9 x 5 = 45\n",
            "9 x 6 = 54\n",
            "9 x 7 = 63\n",
            "9 x 8 = 72\n",
            "9 x 9 = 81\n",
            "----------\n"
          ]
        }
      ]
    },
    {
      "cell_type": "markdown",
      "source": [
        "문자열에서 사용 가능한 산술 연산자:\n",
        "\n",
        "*  문자열 `+` 문자열: 문자열 이어붙이기(concatenate)\n",
        "*  문자열 `*` 정수: 문자열 (정수만큼) 반복해서 복사하기"
      ],
      "metadata": {
        "id": "lQWMJeoNTAU2"
      }
    },
    {
      "cell_type": "markdown",
      "source": [
        "# break와 continue\n",
        "\n",
        "*  `break`: 반복(iteration)을 종료. break가 포함된 가장 가까운 반복문을 빠져나옴.\n",
        "*  `continue`: 반복문 내부의 실행을 멈추고, 그 다음 iteration을 계속해서 수행.\n"
      ],
      "metadata": {
        "id": "wS3MO9KWT1ra"
      }
    },
    {
      "cell_type": "code",
      "source": [
        "for x in range(5):  # (0, 1, 2, 3, 4)\n",
        "    if x == 2:\n",
        "        break\n",
        "    print(x)"
      ],
      "metadata": {
        "colab": {
          "base_uri": "https://localhost:8080/"
        },
        "id": "L0A5xtqyUaLF",
        "outputId": "f7a06f17-b4b2-4439-d02e-e7910ef54d5b"
      },
      "execution_count": 8,
      "outputs": [
        {
          "output_type": "stream",
          "name": "stdout",
          "text": [
            "0\n",
            "1\n"
          ]
        }
      ]
    },
    {
      "cell_type": "code",
      "source": [
        "for x in range(5):  # (0, 1, 2, 3, 4)\n",
        "    if x == 2:\n",
        "        continue\n",
        "    print(x)"
      ],
      "metadata": {
        "colab": {
          "base_uri": "https://localhost:8080/"
        },
        "id": "ccNzW_F_UnyY",
        "outputId": "81260b5b-ff6f-431d-fd32-2d96fe5fadd0"
      },
      "execution_count": 9,
      "outputs": [
        {
          "output_type": "stream",
          "name": "stdout",
          "text": [
            "0\n",
            "1\n",
            "3\n",
            "4\n"
          ]
        }
      ]
    },
    {
      "cell_type": "markdown",
      "source": [
        "다음과 같이 출력.\n",
        "\n",
        "```\n",
        "2 x 1 = 2\n",
        "2 x 2 = 4\n",
        "----------\n",
        "3 x 1 = 3\n",
        "3 x 2 = 6\n",
        "3 x 3 = 9\n",
        "----------\n",
        "...\n",
        "----------\n",
        "5 x 1 = 5\n",
        "...\n",
        "5 x 5 = 25\n",
        "----------\n",
        "```\n"
      ],
      "metadata": {
        "id": "_CiFk_vZWP5e"
      }
    },
    {
      "cell_type": "code",
      "source": [
        "for x in range(2, 6):  # (2, 3, 4, 5)\n",
        "    for y in range(1, 6):  # (1, 2, 3, 4, 5)\n",
        "        print(f'{x} x {y} = {x * y}')\n",
        "        if x == y:\n",
        "            break\n",
        "    print('-' * 10)"
      ],
      "metadata": {
        "colab": {
          "base_uri": "https://localhost:8080/"
        },
        "id": "4-kfocWLVa_l",
        "outputId": "7bebf242-785d-42ba-d614-5a2f5c1e5919"
      },
      "execution_count": 10,
      "outputs": [
        {
          "output_type": "stream",
          "name": "stdout",
          "text": [
            "2 x 1 = 2\n",
            "2 x 2 = 4\n",
            "----------\n",
            "3 x 1 = 3\n",
            "3 x 2 = 6\n",
            "3 x 3 = 9\n",
            "----------\n",
            "4 x 1 = 4\n",
            "4 x 2 = 8\n",
            "4 x 3 = 12\n",
            "4 x 4 = 16\n",
            "----------\n",
            "5 x 1 = 5\n",
            "5 x 2 = 10\n",
            "5 x 3 = 15\n",
            "5 x 4 = 20\n",
            "5 x 5 = 25\n",
            "----------\n"
          ]
        }
      ]
    }
  ]
}