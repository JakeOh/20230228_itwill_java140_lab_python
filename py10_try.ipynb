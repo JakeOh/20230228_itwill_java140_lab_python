{
  "nbformat": 4,
  "nbformat_minor": 0,
  "metadata": {
    "colab": {
      "provenance": [],
      "authorship_tag": "ABX9TyOmdwaYscobzQpoMhcSM2wv",
      "include_colab_link": true
    },
    "kernelspec": {
      "name": "python3",
      "display_name": "Python 3"
    },
    "language_info": {
      "name": "python"
    }
  },
  "cells": [
    {
      "cell_type": "markdown",
      "metadata": {
        "id": "view-in-github",
        "colab_type": "text"
      },
      "source": [
        "<a href=\"https://colab.research.google.com/github/JakeOh/20230228_itwill_java140_lab_python/blob/main/py10_try.ipynb\" target=\"_parent\"><img src=\"https://colab.research.google.com/assets/colab-badge.svg\" alt=\"Open In Colab\"/></a>"
      ]
    },
    {
      "cell_type": "markdown",
      "source": [
        "# 오류(Error) 처리\n",
        "\n",
        "*  오류가 발생한 위치와 원인을 파악해서 오류가 발생하지 않도록 코드 수정.\n",
        "*  오류가 발생하더라도 프로그램이 비정상적으로 종료되지 않고 계속 실행되도록 처리 --> try 구문\n",
        "    *  Java는 반드시 try-catch 구문을 사용해야만 하는 Exception 종류들이 있음.\n",
        "        *  NullPointerException: try-catch 가 필수는 아님.\n",
        "        *  IOException, SQLException, ...: try-catch 가 필수.\n",
        "    *  Python은 모든 오류 처리에서 try-except 가 필수는 아님."
      ],
      "metadata": {
        "id": "JvRn9mo3H5xx"
      }
    },
    {
      "cell_type": "markdown",
      "source": [
        "**Python try-except 구문**\n",
        "\n",
        "```\n",
        "try:\n",
        "    (1) 실행할 코드 블록\n",
        "except [에러 클래스 이름 [as 별명]]:\n",
        "    (2) 에러가 발생했을 때 실행할 코드 블록\n",
        "[else:\n",
        "    (3) 에러가 발생하지 않았을 때 실행할 코드 블록]\n",
        "[finally:\n",
        "    (4) try 블록 실행 중에 에러 발생 여부와 상관 없이 항상 실행할 코드 블록]\n",
        "```\n",
        "\n",
        "*  에러가 발생하지 않는 경우: (1) -> (3) -> (4)\n",
        "*  에러가 발생한 경우: (1) -> (2) -> (4)\n",
        "*  except 구문에서 에러 클래스의 이름을 생략하면, 모든 종류의 에러를 잡아서 처리할 수 있음.\n",
        "*  특정 종류의 에러만 처리하고자 할 때는, except 구문에서 에러 클래스 이름을 명시."
      ],
      "metadata": {
        "id": "O92dAym1Jz-J"
      }
    },
    {
      "cell_type": "code",
      "execution_count": 9,
      "metadata": {
        "colab": {
          "base_uri": "https://localhost:8080/"
        },
        "id": "Cimfp94CHulz",
        "outputId": "1895e962-80d3-421e-d64d-a2851b14ce5c"
      },
      "outputs": [
        {
          "output_type": "stream",
          "name": "stdout",
          "text": [
            "정수 입력>>> .\n",
            "정수로 입력해야 합니다!\n"
          ]
        }
      ],
      "source": [
        "try:\n",
        "    x = int(input('정수 입력>>> '))\n",
        "    print(x)\n",
        "except:\n",
        "    print('정수로 입력해야 합니다!')"
      ]
    },
    {
      "cell_type": "code",
      "source": [
        "try:\n",
        "    x = int(input('정수 입력>>> '))  # 1.\n",
        "except ValueError as e:\n",
        "    print(e)  # 2.\n",
        "else:\n",
        "    print(f'x = {x}')  # 3.\n",
        "finally:\n",
        "    print('=== end ===')  # 4."
      ],
      "metadata": {
        "colab": {
          "base_uri": "https://localhost:8080/"
        },
        "id": "-9c0Yk1eNo2o",
        "outputId": "70e595e6-85af-490a-f0a4-6fa27ef48763"
      },
      "execution_count": 6,
      "outputs": [
        {
          "output_type": "stream",
          "name": "stdout",
          "text": [
            "정수 입력>>> 0.1\n",
            "invalid literal for int() with base 10: '0.1'\n",
            "=== end ===\n"
          ]
        }
      ]
    },
    {
      "cell_type": "markdown",
      "source": [
        "## Ex 1.\n",
        "\n",
        "정수 1개를 입력받고, 입력받은 정수를 출력하세요.\n",
        "\n",
        "정수로 변환할 수 없는 문자열이 입력된 경우에는 적절한 오류 메시지를 출력한 후 다시 입력을 받아야 함."
      ],
      "metadata": {
        "id": "DCcVL0ZsPiMf"
      }
    },
    {
      "cell_type": "code",
      "source": [],
      "metadata": {
        "id": "GS0wDJf9Ph9f"
      },
      "execution_count": null,
      "outputs": []
    },
    {
      "cell_type": "markdown",
      "source": [
        "## Ex 2. 단어 개수 세기\n",
        "\n",
        "리스트 words가 가지고 있는 단어들을 key로 하고, 그 단어가 리스트에 나오는 횟수를 값으로 하는 dict를 생성하고 출력하세요."
      ],
      "metadata": {
        "id": "hCjIh828Pr3P"
      }
    },
    {
      "cell_type": "code",
      "source": [
        "words = ['java', 'python', 'javascript', 'python', 'sql', 'java', 'python']\n",
        "#> 결과: {'java': 2, 'python': 3, 'javascript': 1, 'sql': 1}"
      ],
      "metadata": {
        "id": "kGA5rGRWPrfX"
      },
      "execution_count": null,
      "outputs": []
    }
  ]
}